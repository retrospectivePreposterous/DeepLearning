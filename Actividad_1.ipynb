{
  "nbformat": 4,
  "nbformat_minor": 0,
  "metadata": {
    "kernelspec": {
      "display_name": "Python 3",
      "language": "python",
      "name": "python3"
    },
    "language_info": {
      "codemirror_mode": {
        "name": "ipython",
        "version": 3
      },
      "file_extension": ".py",
      "mimetype": "text/x-python",
      "name": "python",
      "nbconvert_exporter": "python",
      "pygments_lexer": "ipython3",
      "version": "3.8.5"
    },
    "colab": {
      "name": "Actividad_1_master_IA_SCA_MIA_EL_BDA_tarde2c.ipynb",
      "provenance": [],
      "collapsed_sections": []
    }
  },
  "cells": [
    {
      "cell_type": "markdown",
      "metadata": {
        "id": "4VFT5_VnJl19"
      },
      "source": [
        "# Actividad 1: Conceptos generales de redes neuronales\n",
        "En esta actividad vamos a revisar algunos de los conceptos basicos de las redes neuronales, pero no por ello menos importantes.\n",
        "\n",
        "El dataset a utilizar es Fashion MNIST, un problema sencillo con imágenes pequeñas de ropa, pero más interesante que el dataset de MNIST. Puedes consultar más información sobre el dataset en este enlace.\n",
        "\n",
        "El código utilizado para contestar tiene que quedar claramente reflejado en el Notebook. Puedes crear nuevas cells si así lo deseas para estructurar tu código y sus salidas. A la hora de entregar el notebook, asegúrate de que los resultados de ejecutar tu código han quedado guardados (por ejemplo, a la hora de entrenar una red neuronal tiene que verse claramente un log de los resultados de cada epoch)."
      ]
    },
    {
      "cell_type": "code",
      "metadata": {
        "id": "VU8gdrsVG4h0",
        "colab": {
          "base_uri": "https://localhost:8080/"
        },
        "outputId": "69bc126d-ea21-4c15-9674-2e838528cb08"
      },
      "source": [
        "import tensorflow as tf\n",
        "print(tf.__version__)"
      ],
      "execution_count": 3,
      "outputs": [
        {
          "output_type": "stream",
          "text": [
            "2.4.1\n"
          ],
          "name": "stdout"
        }
      ]
    },
    {
      "cell_type": "markdown",
      "metadata": {
        "id": "zScMKU2OKSPD"
      },
      "source": [
        "En primer lugar vamos a importar el dataset Fashion MNIST (recordad que este es uno de los dataset de entranamiento que estan guardados en keras) que es el que vamos a utilizar en esta actividad:"
      ]
    },
    {
      "cell_type": "code",
      "metadata": {
        "id": "4voG2hxxG4h3"
      },
      "source": [
        "mnist = tf.keras.datasets.fashion_mnist"
      ],
      "execution_count": 4,
      "outputs": []
    },
    {
      "cell_type": "markdown",
      "metadata": {
        "id": "JphLsCvgKrzb"
      },
      "source": [
        "Llamar a **load_data** en este dataset nos dará dos conjuntos de dos listas, estos serán los valores de entrenamiento y prueba para los gráficos que contienen las prendas de vestir y sus etiquetas.\n",
        "\n",
        "Nota: Aunque en esta actividad lo veis de esta forma, también lo vais a poder encontrar como 4 variables de esta forma: training_images, training_labels, test_images, test_labels = mnist.load_data()"
      ]
    },
    {
      "cell_type": "code",
      "metadata": {
        "id": "1muD4PHEG4h6",
        "colab": {
          "base_uri": "https://localhost:8080/"
        },
        "outputId": "4eee34d0-2f01-4b9d-8d7f-9a91806e7a2c"
      },
      "source": [
        "(training_images, training_labels), (test_images, test_labels) = mnist.load_data()"
      ],
      "execution_count": 5,
      "outputs": [
        {
          "output_type": "stream",
          "text": [
            "Downloading data from https://storage.googleapis.com/tensorflow/tf-keras-datasets/train-labels-idx1-ubyte.gz\n",
            "32768/29515 [=================================] - 0s 0us/step\n",
            "Downloading data from https://storage.googleapis.com/tensorflow/tf-keras-datasets/train-images-idx3-ubyte.gz\n",
            "26427392/26421880 [==============================] - 0s 0us/step\n",
            "Downloading data from https://storage.googleapis.com/tensorflow/tf-keras-datasets/t10k-labels-idx1-ubyte.gz\n",
            "8192/5148 [===============================================] - 0s 0us/step\n",
            "Downloading data from https://storage.googleapis.com/tensorflow/tf-keras-datasets/t10k-images-idx3-ubyte.gz\n",
            "4423680/4422102 [==============================] - 0s 0us/step\n"
          ],
          "name": "stdout"
        }
      ]
    },
    {
      "cell_type": "markdown",
      "metadata": {
        "id": "ZWGpJqVVLT3Y"
      },
      "source": [
        "Antes de continuar vamos a dar un vistazo a nuestro dataset, para ello vamos a ver una imagen de entrenamiento y su etiqueta o clase."
      ]
    },
    {
      "cell_type": "code",
      "metadata": {
        "id": "t5a5PlswG4h8",
        "colab": {
          "base_uri": "https://localhost:8080/",
          "height": 736
        },
        "outputId": "3d6a8dd2-e3a5-4fc3-cf51-a797e72663e3"
      },
      "source": [
        "import numpy as np\n",
        "np.set_printoptions(linewidth=200)\n",
        "import matplotlib.pyplot as plt\n",
        "plt.imshow(training_images[0], cmap=\"gray\") # recordad que siempre es preferible trabajar en blanco y negro\n",
        "#\n",
        "print(training_labels[0])\n",
        "print(training_images[0])"
      ],
      "execution_count": 6,
      "outputs": [
        {
          "output_type": "stream",
          "text": [
            "9\n",
            "[[  0   0   0   0   0   0   0   0   0   0   0   0   0   0   0   0   0   0   0   0   0   0   0   0   0   0   0   0]\n",
            " [  0   0   0   0   0   0   0   0   0   0   0   0   0   0   0   0   0   0   0   0   0   0   0   0   0   0   0   0]\n",
            " [  0   0   0   0   0   0   0   0   0   0   0   0   0   0   0   0   0   0   0   0   0   0   0   0   0   0   0   0]\n",
            " [  0   0   0   0   0   0   0   0   0   0   0   0   1   0   0  13  73   0   0   1   4   0   0   0   0   1   1   0]\n",
            " [  0   0   0   0   0   0   0   0   0   0   0   0   3   0  36 136 127  62  54   0   0   0   1   3   4   0   0   3]\n",
            " [  0   0   0   0   0   0   0   0   0   0   0   0   6   0 102 204 176 134 144 123  23   0   0   0   0  12  10   0]\n",
            " [  0   0   0   0   0   0   0   0   0   0   0   0   0   0 155 236 207 178 107 156 161 109  64  23  77 130  72  15]\n",
            " [  0   0   0   0   0   0   0   0   0   0   0   1   0  69 207 223 218 216 216 163 127 121 122 146 141  88 172  66]\n",
            " [  0   0   0   0   0   0   0   0   0   1   1   1   0 200 232 232 233 229 223 223 215 213 164 127 123 196 229   0]\n",
            " [  0   0   0   0   0   0   0   0   0   0   0   0   0 183 225 216 223 228 235 227 224 222 224 221 223 245 173   0]\n",
            " [  0   0   0   0   0   0   0   0   0   0   0   0   0 193 228 218 213 198 180 212 210 211 213 223 220 243 202   0]\n",
            " [  0   0   0   0   0   0   0   0   0   1   3   0  12 219 220 212 218 192 169 227 208 218 224 212 226 197 209  52]\n",
            " [  0   0   0   0   0   0   0   0   0   0   6   0  99 244 222 220 218 203 198 221 215 213 222 220 245 119 167  56]\n",
            " [  0   0   0   0   0   0   0   0   0   4   0   0  55 236 228 230 228 240 232 213 218 223 234 217 217 209  92   0]\n",
            " [  0   0   1   4   6   7   2   0   0   0   0   0 237 226 217 223 222 219 222 221 216 223 229 215 218 255  77   0]\n",
            " [  0   3   0   0   0   0   0   0   0  62 145 204 228 207 213 221 218 208 211 218 224 223 219 215 224 244 159   0]\n",
            " [  0   0   0   0  18  44  82 107 189 228 220 222 217 226 200 205 211 230 224 234 176 188 250 248 233 238 215   0]\n",
            " [  0  57 187 208 224 221 224 208 204 214 208 209 200 159 245 193 206 223 255 255 221 234 221 211 220 232 246   0]\n",
            " [  3 202 228 224 221 211 211 214 205 205 205 220 240  80 150 255 229 221 188 154 191 210 204 209 222 228 225   0]\n",
            " [ 98 233 198 210 222 229 229 234 249 220 194 215 217 241  65  73 106 117 168 219 221 215 217 223 223 224 229  29]\n",
            " [ 75 204 212 204 193 205 211 225 216 185 197 206 198 213 240 195 227 245 239 223 218 212 209 222 220 221 230  67]\n",
            " [ 48 203 183 194 213 197 185 190 194 192 202 214 219 221 220 236 225 216 199 206 186 181 177 172 181 205 206 115]\n",
            " [  0 122 219 193 179 171 183 196 204 210 213 207 211 210 200 196 194 191 195 191 198 192 176 156 167 177 210  92]\n",
            " [  0   0  74 189 212 191 175 172 175 181 185 188 189 188 193 198 204 209 210 210 211 188 188 194 192 216 170   0]\n",
            " [  2   0   0   0  66 200 222 237 239 242 246 243 244 221 220 193 191 179 182 182 181 176 166 168  99  58   0   0]\n",
            " [  0   0   0   0   0   0   0  40  61  44  72  41  35   0   0   0   0   0   0   0   0   0   0   0   0   0   0   0]\n",
            " [  0   0   0   0   0   0   0   0   0   0   0   0   0   0   0   0   0   0   0   0   0   0   0   0   0   0   0   0]\n",
            " [  0   0   0   0   0   0   0   0   0   0   0   0   0   0   0   0   0   0   0   0   0   0   0   0   0   0   0   0]]\n"
          ],
          "name": "stdout"
        },
        {
          "output_type": "display_data",
          "data": {
            "image/png": "[encoded data removed]",
            "text/plain": [
              "<Figure size 432x288 with 1 Axes>"
            ]
          },
          "metadata": {
            "tags": [],
            "needs_background": "light"
          }
        }
      ]
    },
    {
      "cell_type": "markdown",
      "metadata": {
        "id": "WCJvZx3MLucY"
      },
      "source": [
        "Habreis notado que todos los valores numericos están entre 0 y 255. Si estamos entrenando una red neuronal, una buena practica es transformar todos los valores entre 0 y 1, un proceso llamado \"normalización\" y afortunadamente en Python es fácil normalizar una lista. Lo puedes hacer de esta manera:"
      ]
    },
    {
      "cell_type": "markdown",
      "metadata": {
        "id": "OLpAvdVcRlyx"
      },
      "source": [
        ""
      ]
    },
    {
      "cell_type": "code",
      "metadata": {
        "id": "tojL1BmjG4h_"
      },
      "source": [
        "training_images  = training_images / 255.0\n",
        "test_images = test_images / 255.0"
      ],
      "execution_count": 7,
      "outputs": []
    },
    {
      "cell_type": "markdown",
      "metadata": {
        "id": "yYUWWsszMAKt"
      },
      "source": [
        "Ahora vamos a definir el modelo, pero antes vamos a repasar algunos comandos y conceptos muy utiles:\n",
        "* **Sequential**: Eso define una SECUENCIA de capas en la red neuronal\n",
        "* **Dense**: Añade una capa de neuronas\n",
        "* **Flatten**: ¿Recuerdas que las imágenes cómo eran las imagenes cuando las imprimiste para poder verlas? Un cuadrado, Flatten sólo toma ese cuadrado y lo convierte en un vector de una dimensión.\n",
        "\n",
        "Cada capa de neuronas necesita una función de activación. Normalmente se usa la función relu en las capas intermedias y softmax en la ultima capa\n",
        "* **Relu** significa que \"Si X>0 devuelve X, si no, devuelve 0\", así que lo que hace es pasar sólo valores 0 o mayores a la siguiente capa de la red.\n",
        "* **Softmax** toma un conjunto de valores, y escoge el más grande."
      ]
    },
    {
      "cell_type": "markdown",
      "metadata": {
        "id": "QgBW1yE2MwPp"
      },
      "source": [
        " **Pregunta 1 (3.5 puntos)**. Utilizando Keras, y preparando los datos de X e y como fuera necesario, define y entrena una red neuronal que sea capaz de clasificar imágenes de Fashion MNIST con las siguientes características:\n",
        "\n",
        "* Una hidden layer de tamaños 128, utilizando unidades sigmoid\n",
        "Optimizador Adam.\n",
        "* Durante el entrenamiento, la red tiene que mostrar resultados de loss y accuracy por cada epoch.\n",
        "* La red debe entrenar durante 10 epochs y batch size de 64.\n",
        "* La última capa debe de ser una capa softmax.\n",
        "* Tu red tendría que ser capaz de superar fácilmente 80% de accuracy."
      ]
    },
    {
      "cell_type": "markdown",
      "metadata": {
        "id": "EhQBAOtTNd8n"
      },
      "source": [
        "## EL CÓDIGO DEL ALUMNO EMPIEZA AQUÍ:##"
      ]
    },
    {
      "cell_type": "code",
      "metadata": {
        "colab": {
          "base_uri": "https://localhost:8080/"
        },
        "id": "kUQj7Cs75Evb",
        "outputId": "163ebf9d-f0d3-42b7-bf8d-e6389f78f760"
      },
      "source": [
        "from tensorflow import keras\n",
        "print(keras.__version__)"
      ],
      "execution_count": 8,
      "outputs": [
        {
          "output_type": "stream",
          "text": [
            "2.4.0\n"
          ],
          "name": "stdout"
        }
      ]
    },
    {
      "cell_type": "code",
      "metadata": {
        "colab": {
          "base_uri": "https://localhost:8080/"
        },
        "id": "WVJMsPFY1R8z",
        "outputId": "7cd02d84-ef81-4897-a921-4ce284d6813a"
      },
      "source": [
        "# Primero analizamos el tamaño en píxeles de las imágenes, así como las etiquetas disponibles\n",
        "print(training_images.shape)  \n",
        "print(set(training_labels))"
      ],
      "execution_count": 9,
      "outputs": [
        {
          "output_type": "stream",
          "text": [
            "(60000, 28, 28)\n",
            "{0, 1, 2, 3, 4, 5, 6, 7, 8, 9}\n"
          ],
          "name": "stdout"
        }
      ]
    },
    {
      "cell_type": "code",
      "metadata": {
        "colab": {
          "base_uri": "https://localhost:8080/"
        },
        "id": "fUHm06CL_O2q",
        "outputId": "ce618dc6-bdd9-46b1-d10d-56fa1c811ae3"
      },
      "source": [
        "# Clasificamos con strings las etiquetas de ropa según la información de https://www.tensorflow.org/datasets/catalog/fashion_mnist\n",
        "class_names = [\"T-shirt/top\", \"Trouser\", \"Pullover\", \"Dress\", \"Coat\", \"Sandal\", \"Shirt\", \"Sneaker\", \"Bag\", \"Ankle boot\"]\n",
        "print(class_names[training_labels[0]])"
      ],
      "execution_count": 10,
      "outputs": [
        {
          "output_type": "stream",
          "text": [
            "Ankle boot\n"
          ],
          "name": "stdout"
        }
      ]
    },
    {
      "cell_type": "code",
      "metadata": {
        "id": "aTaD2QXIORwu"
      },
      "source": [
        "# El dataset se compone de 60000 imágenes, las cuales son de 28x28 píxeles (tamaño que se empleará en la función Flatten)\n",
        "# El dataset tiene 10 tipos de etiquetas (prendas de ropa), del 0 al 9, pudiendo renombrarse con 'class names'\n",
        "model= keras.models.Sequential()\n",
        "model.add(keras.layers.Flatten(input_shape=[28,28])) # input_shape se corresponde con el tamaño de píxeles (28x28).\n",
        "model.add(keras.layers.Dense(128, activation=\"sigmoid\"))\n",
        "model.add(keras.layers.Dense(10, activation=\"softmax\")) # la capa de salida ha de tener tantos valores como variedad de labels tiene el dataset (10)."
      ],
      "execution_count": null,
      "outputs": []
    },
    {
      "cell_type": "code",
      "metadata": {
        "id": "IxaEa8hX4Gbt"
      },
      "source": [
        "model.compile(loss = \"sparse_categorical_crossentropy\",\n",
        "              optimizer = \"adam\",\n",
        "              metrics = [\"accuracy\"])"
      ],
      "execution_count": null,
      "outputs": []
    },
    {
      "cell_type": "code",
      "metadata": {
        "colab": {
          "base_uri": "https://localhost:8080/"
        },
        "id": "gVVkkDdy4Hhb",
        "outputId": "34b32e35-84fe-40df-9f67-dccee2a582d6"
      },
      "source": [
        "history = model.fit(training_images, training_labels, validation_split=0.33, epochs=10, batch_size=64, verbose=1, validation_data=(test_images, test_labels))\n",
        "# En el entrenamiento se comprueba que un validation split y un verbose (a pesar de no ser considerados en el enunciado), mejoran el accuracy del modelo (de lo contrario no llegaba al 80%)."
      ],
      "execution_count": null,
      "outputs": [
        {
          "output_type": "stream",
          "text": [
            "Epoch 1/10\n",
            "629/629 [==============================] - 3s 4ms/step - loss: 0.9075 - accuracy: 0.7104 - val_loss: 0.4876 - val_accuracy: 0.8265\n",
            "Epoch 2/10\n",
            "629/629 [==============================] - 2s 3ms/step - loss: 0.4498 - accuracy: 0.8416 - val_loss: 0.4186 - val_accuracy: 0.8505\n",
            "Epoch 3/10\n",
            "629/629 [==============================] - 2s 3ms/step - loss: 0.4039 - accuracy: 0.8548 - val_loss: 0.3977 - val_accuracy: 0.8579\n",
            "Epoch 4/10\n",
            "629/629 [==============================] - 2s 3ms/step - loss: 0.3710 - accuracy: 0.8667 - val_loss: 0.3693 - val_accuracy: 0.8658\n",
            "Epoch 5/10\n",
            "629/629 [==============================] - 2s 3ms/step - loss: 0.3459 - accuracy: 0.8771 - val_loss: 0.3798 - val_accuracy: 0.8635\n",
            "Epoch 6/10\n",
            "629/629 [==============================] - 2s 3ms/step - loss: 0.3414 - accuracy: 0.8754 - val_loss: 0.3697 - val_accuracy: 0.8674\n",
            "Epoch 7/10\n",
            "629/629 [==============================] - 2s 3ms/step - loss: 0.3286 - accuracy: 0.8824 - val_loss: 0.3482 - val_accuracy: 0.8752\n",
            "Epoch 8/10\n",
            "629/629 [==============================] - 2s 3ms/step - loss: 0.3202 - accuracy: 0.8843 - val_loss: 0.3409 - val_accuracy: 0.8781\n",
            "Epoch 9/10\n",
            "629/629 [==============================] - 2s 3ms/step - loss: 0.3061 - accuracy: 0.8884 - val_loss: 0.3371 - val_accuracy: 0.8795\n",
            "Epoch 10/10\n",
            "629/629 [==============================] - 2s 3ms/step - loss: 0.2980 - accuracy: 0.8921 - val_loss: 0.3285 - val_accuracy: 0.8815\n"
          ],
          "name": "stdout"
        }
      ]
    },
    {
      "cell_type": "markdown",
      "metadata": {
        "id": "Bxr5hTKYOQnK"
      },
      "source": [
        "Para concluir el entrenamiento de la red neuronal, una buena practica es evaluar el modelo para ver si la precisión de entrenamiento es real\n",
        "\n",
        "**pregunta 2 (0.5 puntos)**: evalua el modelo con las imagenes y etiquetas test."
      ]
    },
    {
      "cell_type": "code",
      "metadata": {
        "colab": {
          "base_uri": "https://localhost:8080/",
          "height": 323
        },
        "id": "d4H8yh8Q7BaM",
        "outputId": "f5c8df2d-fbce-4250-d81a-a51365047c7b"
      },
      "source": [
        "# Evalúamos el loss y el accuracy en la siguiente gráfica\n",
        "import pandas as pd\n",
        "import matplotlib.pyplot as plt\n",
        "\n",
        "pd.DataFrame(history.history).plot(figsize=(8,5))\n",
        "plt.grid(True)\n",
        "plt.gca().set_ylim(0,1)\n",
        "plt.show()"
      ],
      "execution_count": null,
      "outputs": [
        {
          "output_type": "display_data",
          "data": {
            "image/png": "[encoded data removed]",
            "text/plain": [
              "<Figure size 576x360 with 1 Axes>"
            ]
          },
          "metadata": {
            "tags": [],
            "needs_background": "light"
          }
        }
      ]
    },
    {
      "cell_type": "code",
      "metadata": {
        "colab": {
          "base_uri": "https://localhost:8080/"
        },
        "id": "vHlNmvkoZnXv",
        "outputId": "7d446408-5f6a-4d97-bc43-4c8e996ee625"
      },
      "source": [
        "# También podemos evaluar el modelo con la información de test usando \"evaluate\"\n",
        "print(\"Evaluación sobre los datos de test\")\n",
        "results = model.evaluate(test_images, test_labels)\n",
        "print(\"test loss, test accuracy:\", results)"
      ],
      "execution_count": null,
      "outputs": [
        {
          "output_type": "stream",
          "text": [
            "Evaluación sobre los datos de test\n",
            "313/313 [==============================] - 0s 1ms/step - loss: 0.3556 - accuracy: 0.8710\n",
            "test loss, test accuracy: [0.35560938715934753, 0.8709999918937683]\n"
          ],
          "name": "stdout"
        }
      ]
    },
    {
      "cell_type": "markdown",
      "metadata": {
        "id": "ygMVnmSYO83U"
      },
      "source": [
        "Ahora vamos a explorar el código con una serie de ejercicios para alcanzar un grado de comprensión mayor sobre las redes neuronales y su entrenamiento.\n",
        "\n",
        "# **Ejercicio 1: Funcionamiento de las predicción de la red neuronal**\n",
        "\n",
        "Para este primer ejercicio sigue los siguientes pasos: \n",
        "\n",
        "* Crea una variable llamada **classifications** para construir un clasificador para las imágenes de prueba, para ello puedes utilizar la función predict sobre el conjunto de test\n",
        "* Imprime con la función print la primera entrada en las clasificaciones. \n",
        "\n",
        "**pregunta 3.1 (0.25 puntos)**, el resultado al imprimirlo es un vector de números, \n",
        "* ¿Por qué crees que ocurre esto, y qué representa este vector de números?\n",
        "\n",
        "**pregunta 3.2 (0.25 puntos)**\n",
        "* ¿Cúal es la clase de la primera entrada#  de la variable **classifications**? La respuesta puede ser un número o su etiqueta/clase equivalente."
      ]
    },
    {
      "cell_type": "code",
      "metadata": {
        "id": "VNjQEtUUG4iI",
        "colab": {
          "base_uri": "https://localhost:8080/",
          "height": 588
        },
        "outputId": "8e83c6e1-7390-45a7-eee8-ca6f7fe024cc"
      },
      "source": [
        "# También podemos comprobar el funcionamiento de la red con algunas predicciones, para ello compararemos 25 imágenes de test con la predicción de sus etiquetas.\n",
        "# Imprimimos primero las 25 primeras imágenes de test con sus respectivas etiquetas (todavía no predecimos, sólo es para comparar luego):\n",
        "plt.figure(figsize=(10,10))\n",
        "for i in range(25):\n",
        "    plt.subplot(5,5,i+1)\n",
        "    plt.xticks([])\n",
        "    plt.yticks([])\n",
        "    plt.grid(False)\n",
        "    plt.imshow(test_images[i], cmap=plt.cm.binary)\n",
        "    plt.xlabel(class_names[test_labels[i]])\n",
        "plt.show()"
      ],
      "execution_count": null,
      "outputs": [
        {
          "output_type": "display_data",
          "data": {
            "image/png": "[encoded data removed]",
            "text/plain": [
              "<Figure size 720x720 with 25 Axes>"
            ]
          },
          "metadata": {
            "tags": []
          }
        }
      ]
    },
    {
      "cell_type": "code",
      "metadata": {
        "colab": {
          "base_uri": "https://localhost:8080/"
        },
        "id": "VDqX3XqcRKVL",
        "outputId": "506ea9b8-d749-4807-ba11-b813fe2a7e92"
      },
      "source": [
        "# Podemos hacer una sola predicción a partir de las imágenes test. \n",
        "classifications = model.predict(test_images)\n",
        "# Imprimiremos tal cual la primera entrada de clasificación.\n",
        "print(classifications[0])"
      ],
      "execution_count": null,
      "outputs": [
        {
          "output_type": "stream",
          "text": [
            "[2.0764246e-05 1.6672062e-06 7.9866819e-05 2.3929195e-05 2.6256077e-05 1.0202556e-01 1.7308614e-04 6.9409907e-02 1.0073386e-03 8.2723165e-01]\n"
          ],
          "name": "stdout"
        }
      ]
    },
    {
      "cell_type": "markdown",
      "metadata": {
        "id": "pvbVC9gaQhMY"
      },
      "source": [
        "Tu respuesta a la pregunta 3.1 aquí:"
      ]
    },
    {
      "cell_type": "code",
      "metadata": {
        "id": "-js6_WWBXHKu"
      },
      "source": [
        "# El resultado de la primera entrada de clasificación es un vector (un array o lista de una dimensión) que representa, variable a variable, la probabilidad predictora de cada una de las clases.\n",
        "# La clase más probable, la última, tiene una probabilidad de acierto de 8.27e-01 para nuestra red neuronal."
      ],
      "execution_count": null,
      "outputs": []
    },
    {
      "cell_type": "code",
      "metadata": {
        "colab": {
          "base_uri": "https://localhost:8080/",
          "height": 297
        },
        "id": "x0qsluuSWW7W",
        "outputId": "cdd2bed7-8209-46e3-bbb1-9f266af5e721"
      },
      "source": [
        "# Ahora, comprobamos que la etiqueta más probable (np.argmax) para la imagen 0 coincide con la imagen de test 0:\n",
        "print ( np.argmax(classifications[0]) )\n",
        "print ( class_names[np.argmax(classifications[0])] )\n",
        "plt.imshow(test_images[0], cmap=plt.cm.binary)\n",
        "plt.show()"
      ],
      "execution_count": null,
      "outputs": [
        {
          "output_type": "stream",
          "text": [
            "9\n",
            "Ankle boot\n"
          ],
          "name": "stdout"
        },
        {
          "output_type": "display_data",
          "data": {
            "image/png": "[encoded data removed]",
            "text/plain": [
              "<Figure size 432x288 with 1 Axes>"
            ]
          },
          "metadata": {
            "tags": [],
            "needs_background": "light"
          }
        }
      ]
    },
    {
      "cell_type": "markdown",
      "metadata": {
        "id": "oRWo-75tdgv0"
      },
      "source": [
        "Tu respuesta a la pregunta 3.2 aquí:"
      ]
    },
    {
      "cell_type": "code",
      "metadata": {
        "id": "dhbJGa-DYQ0m"
      },
      "source": [
        "# La clase para la primera entrada de \"classifications\" es el campo 9 del vector (como se había explicado en el apartado anterior es la última variable, la que resulta más probable).\n",
        "# Según los class_names esta variable corresponde a \"Ankle boot\", el cual coincide con la etiqueta test_label de la primera entrada; por lo que se deduce que la predicción es acertada.\n",
        "# Se ha demostrado el acierto de la predicción visualizando la imagen a la que corresponde."
      ],
      "execution_count": null,
      "outputs": []
    },
    {
      "cell_type": "code",
      "metadata": {
        "colab": {
          "base_uri": "https://localhost:8080/",
          "height": 588
        },
        "id": "F2Yh37eLSW0b",
        "outputId": "4ccf8132-7b69-408b-db99-43ef7892f168"
      },
      "source": [
        "# Por último, comparamos las 25 imágenes de test mostradas más arriba con la etiqueta predicha para cada una:\n",
        "plt.figure(figsize=(10,10))\n",
        "for i in range(25):\n",
        "    plt.subplot(5,5,i+1)\n",
        "    plt.xticks([])\n",
        "    plt.yticks([])\n",
        "    plt.grid(False)\n",
        "    plt.imshow(test_images[i], cmap=plt.cm.binary)\n",
        "    plt.xlabel(class_names[np.argmax(classifications[i])])\n",
        "plt.show()"
      ],
      "execution_count": null,
      "outputs": [
        {
          "output_type": "display_data",
          "data": {
            "image/png": "[encoded data removed]",
            "text/plain": [
              "<Figure size 720x720 with 25 Axes>"
            ]
          },
          "metadata": {
            "tags": []
          }
        }
      ]
    },
    {
      "cell_type": "code",
      "metadata": {
        "id": "UZ3ceZlPTJfQ"
      },
      "source": [
        "# Se comprueba que la etiqueta predicha casi siempre coincide con la etiqueta de test.\n",
        "# Se produce un error de predicción en la imagen 17 (entiende \"pullover\", cuando debería ser \"coat\") y en la 23 (entiende \"Sneaker\" cuando debería ser \"ankle boot\")."
      ],
      "execution_count": null,
      "outputs": []
    },
    {
      "cell_type": "markdown",
      "metadata": {
        "id": "hiQ8qAzhRQ4L"
      },
      "source": [
        "# **Ejercicio 2: Impacto variar el número de neuronas en las capas ocultas**\n",
        "\n",
        "En este ejercicio vamos a experimentar con nuestra red neuronal cambiando el numero de neuronas por 512 y por 1024. Para ello, utiliza la red neuronal de la pregunta 1, y su capa oculta cambia las 128 neuronas:\n",
        "\n",
        "* **pregunta 4.1 (0.25 puntos)**: 512 neuronas en la capa oculta\n",
        "* **pregunta 4.2 (0.25 puntos)**:1024 neuronas en la capa oculta\n",
        "\n",
        "y entrena la red en ambos casos.\n",
        "\n",
        "**pregunta 4.3 (0.5 puntos)**: ¿Cual es el impacto que tiene la red neuronal?"
      ]
    },
    {
      "cell_type": "code",
      "metadata": {
        "id": "cdP8ZwuaUV93"
      },
      "source": [
        "# Generamos una función de diseño, compilación, entrenamiento y evaluación; únicamente parametrizable por el número de neuronas de su capa oculta\n",
        "def dcee (num_neuronas):\n",
        "  print(\"RED NEURONAL PARA \" + str(num_neuronas) + \" NEURONAS EN LA CAPA OCULTA:\")\n",
        "  model = keras.models.Sequential()\n",
        "  model.add(keras.layers.Flatten(input_shape=[28,28])) \n",
        "  model.add(keras.layers.Dense(num_neuronas, activation=\"sigmoid\"))\n",
        "  model.add(keras.layers.Dense(10, activation=\"softmax\")) \n",
        "\n",
        "  model.compile(loss = \"sparse_categorical_crossentropy\",\n",
        "                optimizer = \"adam\",\n",
        "                metrics = [\"accuracy\"])\n",
        "\n",
        "  history = model.fit(training_images, training_labels, validation_split=0.33, epochs=10, batch_size=64, verbose=1, validation_data=(test_images, test_labels))\n",
        "  print(\"\")\n",
        "  print(\"Evaluación sobre los datos de test:\")\n",
        "  model.evaluate(test_images, test_labels)\n",
        "  print(\"---------------------------------------------------------------------------------------------------------------------\")"
      ],
      "execution_count": null,
      "outputs": []
    },
    {
      "cell_type": "code",
      "metadata": {
        "id": "YXBlbbfuUaPa",
        "colab": {
          "base_uri": "https://localhost:8080/"
        },
        "outputId": "7e43e46f-f28a-4c8c-9080-d5c69533e24d"
      },
      "source": [
        "# Ejecutamos la función con una red neuronal de 512 neuronas y otra de 1024 en la capa oculta\n",
        "dcee (512)\n",
        "dcee (1024)"
      ],
      "execution_count": null,
      "outputs": [
        {
          "output_type": "stream",
          "text": [
            "RED NEURONAL PARA 512 NEURONAS EN LA CAPA OCULTA:\n",
            "Epoch 1/10\n",
            "629/629 [==============================] - 5s 7ms/step - loss: 0.7443 - accuracy: 0.7455 - val_loss: 0.4649 - val_accuracy: 0.8348\n",
            "Epoch 2/10\n",
            "629/629 [==============================] - 4s 6ms/step - loss: 0.4322 - accuracy: 0.8461 - val_loss: 0.4498 - val_accuracy: 0.8297\n",
            "Epoch 3/10\n",
            "629/629 [==============================] - 4s 6ms/step - loss: 0.3922 - accuracy: 0.8599 - val_loss: 0.3992 - val_accuracy: 0.8536\n",
            "Epoch 4/10\n",
            "629/629 [==============================] - 4s 6ms/step - loss: 0.3652 - accuracy: 0.8684 - val_loss: 0.3676 - val_accuracy: 0.8681\n",
            "Epoch 5/10\n",
            "629/629 [==============================] - 4s 6ms/step - loss: 0.3426 - accuracy: 0.8748 - val_loss: 0.3639 - val_accuracy: 0.8704\n",
            "Epoch 6/10\n",
            "629/629 [==============================] - 4s 6ms/step - loss: 0.3270 - accuracy: 0.8783 - val_loss: 0.3490 - val_accuracy: 0.8720\n",
            "Epoch 7/10\n",
            "629/629 [==============================] - 4s 6ms/step - loss: 0.3124 - accuracy: 0.8860 - val_loss: 0.3356 - val_accuracy: 0.8781\n",
            "Epoch 8/10\n",
            "629/629 [==============================] - 4s 6ms/step - loss: 0.2997 - accuracy: 0.8880 - val_loss: 0.3320 - val_accuracy: 0.8801\n",
            "Epoch 9/10\n",
            "629/629 [==============================] - 4s 6ms/step - loss: 0.2811 - accuracy: 0.8966 - val_loss: 0.3288 - val_accuracy: 0.8800\n",
            "Epoch 10/10\n",
            "629/629 [==============================] - 4s 6ms/step - loss: 0.2633 - accuracy: 0.9018 - val_loss: 0.3121 - val_accuracy: 0.8878\n",
            "\n",
            "Evaluación sobre los datos de test:\n",
            "313/313 [==============================] - 1s 2ms/step - loss: 0.3434 - accuracy: 0.8771\n",
            "---------------------------------------------------------------------------------------------------------------------\n",
            "RED NEURONAL PARA 1024 NEURONAS EN LA CAPA OCULTA:\n",
            "Epoch 1/10\n",
            "629/629 [==============================] - 7s 11ms/step - loss: 0.7290 - accuracy: 0.7469 - val_loss: 0.4649 - val_accuracy: 0.8301\n",
            "Epoch 2/10\n",
            "629/629 [==============================] - 7s 11ms/step - loss: 0.4285 - accuracy: 0.8465 - val_loss: 0.4238 - val_accuracy: 0.8459\n",
            "Epoch 3/10\n",
            "629/629 [==============================] - 7s 11ms/step - loss: 0.4031 - accuracy: 0.8547 - val_loss: 0.3806 - val_accuracy: 0.8631\n",
            "Epoch 4/10\n",
            "629/629 [==============================] - 7s 11ms/step - loss: 0.3537 - accuracy: 0.8715 - val_loss: 0.3890 - val_accuracy: 0.8608\n",
            "Epoch 5/10\n",
            "629/629 [==============================] - 7s 11ms/step - loss: 0.3439 - accuracy: 0.8737 - val_loss: 0.3781 - val_accuracy: 0.8567\n",
            "Epoch 6/10\n",
            "629/629 [==============================] - 7s 11ms/step - loss: 0.3197 - accuracy: 0.8843 - val_loss: 0.3493 - val_accuracy: 0.8714\n",
            "Epoch 7/10\n",
            "629/629 [==============================] - 7s 11ms/step - loss: 0.3119 - accuracy: 0.8859 - val_loss: 0.3271 - val_accuracy: 0.8809\n",
            "Epoch 8/10\n",
            "629/629 [==============================] - 7s 11ms/step - loss: 0.2890 - accuracy: 0.8931 - val_loss: 0.3331 - val_accuracy: 0.8776\n",
            "Epoch 9/10\n",
            "629/629 [==============================] - 7s 11ms/step - loss: 0.2773 - accuracy: 0.8968 - val_loss: 0.3386 - val_accuracy: 0.8783\n",
            "Epoch 10/10\n",
            "629/629 [==============================] - 7s 11ms/step - loss: 0.2572 - accuracy: 0.9045 - val_loss: 0.3275 - val_accuracy: 0.8812\n",
            "\n",
            "Evaluación sobre los datos de test:\n",
            "313/313 [==============================] - 1s 3ms/step - loss: 0.3645 - accuracy: 0.8700\n",
            "---------------------------------------------------------------------------------------------------------------------\n"
          ],
          "name": "stdout"
        }
      ]
    },
    {
      "cell_type": "markdown",
      "metadata": {
        "id": "wG0h2HL-Uj93"
      },
      "source": [
        "Tu respuesta a la pregunta 4.3 aquí:"
      ]
    },
    {
      "cell_type": "code",
      "metadata": {
        "id": "uu3QZTvu_Lzb"
      },
      "source": [
        "# Como era de esperar, las redes neuronales tardan más tiempo en entrenarse que la de 128 neuronas. \n",
        "# Cada epoch tarda de media 2 , 4 y 7 segundos para las redes de 128, 512 y 1024 neuronas en una sola capa oculta respectivamente, siendo el resto de hiperparámetros iguales.\n",
        "# Aunque el accuracy de la red de 512 mejora, paradójicamente la red de 1024 neuronas empeora un poco. Esto es debido a que el modelo se está sobreajustando, es decir, produce un \"overfitting\" (alta varianza).\n",
        "# Cuando se produce \"overfitting\" la red pierde capacidad de generalización y de abstracción, por lo que aprende cada caso como aislado clasificando mal las predicciones."
      ],
      "execution_count": null,
      "outputs": []
    },
    {
      "cell_type": "markdown",
      "metadata": {
        "id": "b-NpUI9EVkVz"
      },
      "source": [
        "Si ahora entrenais el modelo de esta forma (con 512 y 1024 neuronas en la capa oculta) y volveis a ejecutar el predictor guardado en la variable **classifications**, escribir el código del clasificador del ejercicio 1 de nuevo e imprimid el primer objeto guardado en la variable classifications.\n",
        "\n",
        "**pregunta 5.1 (0.25 puntos)**: \n",
        "\n",
        "* ¿En que clase esta clasificado ahora la primera prenda de vestir de la variable classifications?\n",
        "\n",
        "**pregunta 5.1 (0.25 puntos)**: \n",
        "\n",
        "* ¿Porque crees que ha ocurrido esto?"
      ]
    },
    {
      "cell_type": "code",
      "metadata": {
        "id": "RdJHl3V-G4iS"
      },
      "source": [
        "# Generamos una función de diseño, compilación, entrenamiento y evaluación; únicamente parametrizable por el número de neuronas de su capa oculta, agregando predicción sobre la primera imagen\n",
        "def dcee_predict (num_neuronas):\n",
        "  print(\"RED NEURONAL PARA \" + str(num_neuronas) + \" NEURONAS EN LA CAPA OCULTA:\")\n",
        "  model = keras.models.Sequential()\n",
        "  model.add(keras.layers.Flatten(input_shape=[28,28])) \n",
        "  model.add(keras.layers.Dense(num_neuronas, activation=\"sigmoid\"))\n",
        "  model.add(keras.layers.Dense(10, activation=\"softmax\")) \n",
        "\n",
        "  model.compile(loss = \"sparse_categorical_crossentropy\",\n",
        "                optimizer = \"adam\",\n",
        "                metrics = [\"accuracy\"])\n",
        "\n",
        "  history = model.fit(training_images, training_labels, validation_split=0.33, epochs=10, batch_size=64, verbose=1, validation_data=(test_images, test_labels))\n",
        "  print(\"\")\n",
        "  classifications = model.predict(test_images)\n",
        "  print(\"Primera imagen de test:\")\n",
        "  print ( class_names[test_labels[0]] ) \n",
        "  print(\"Primera imagen predicha (classifications):\")\n",
        "  print ( class_names[np.argmax(classifications[0])] )\n",
        "  print(\"---------------------------------------------------------------------------------------------------------------------\")"
      ],
      "execution_count": null,
      "outputs": []
    },
    {
      "cell_type": "code",
      "metadata": {
        "colab": {
          "base_uri": "https://localhost:8080/"
        },
        "id": "sv5o0vAfDGKA",
        "outputId": "fae8f974-a337-45c9-acf6-0d7c7d897cac"
      },
      "source": [
        "# Ejecutamos la función con una red neuronal de 512 neuronas y otra de 1024 en la capa oculta, comparando la primera imagen de test contra la predicción de la misma\n",
        "dcee_predict (512)\n",
        "dcee_predict (1024)"
      ],
      "execution_count": null,
      "outputs": [
        {
          "output_type": "stream",
          "text": [
            "RED NEURONAL PARA 512 NEURONAS EN LA CAPA OCULTA:\n",
            "Epoch 1/10\n",
            "629/629 [==============================] - 4s 6ms/step - loss: 0.7681 - accuracy: 0.7393 - val_loss: 0.4805 - val_accuracy: 0.8232\n",
            "Epoch 2/10\n",
            "629/629 [==============================] - 4s 6ms/step - loss: 0.4397 - accuracy: 0.8429 - val_loss: 0.4313 - val_accuracy: 0.8475\n",
            "Epoch 3/10\n",
            "629/629 [==============================] - 4s 6ms/step - loss: 0.3944 - accuracy: 0.8548 - val_loss: 0.3962 - val_accuracy: 0.8571\n",
            "Epoch 4/10\n",
            "629/629 [==============================] - 4s 6ms/step - loss: 0.3683 - accuracy: 0.8660 - val_loss: 0.3684 - val_accuracy: 0.8644\n",
            "Epoch 5/10\n",
            "629/629 [==============================] - 4s 6ms/step - loss: 0.3410 - accuracy: 0.8740 - val_loss: 0.3502 - val_accuracy: 0.8763\n",
            "Epoch 6/10\n",
            "629/629 [==============================] - 4s 6ms/step - loss: 0.3215 - accuracy: 0.8839 - val_loss: 0.3504 - val_accuracy: 0.8728\n",
            "Epoch 7/10\n",
            "629/629 [==============================] - 4s 6ms/step - loss: 0.3076 - accuracy: 0.8867 - val_loss: 0.3544 - val_accuracy: 0.8706\n",
            "Epoch 8/10\n",
            "629/629 [==============================] - 4s 6ms/step - loss: 0.2961 - accuracy: 0.8906 - val_loss: 0.3211 - val_accuracy: 0.8835\n",
            "Epoch 9/10\n",
            "629/629 [==============================] - 4s 6ms/step - loss: 0.2767 - accuracy: 0.8981 - val_loss: 0.3366 - val_accuracy: 0.8754\n",
            "Epoch 10/10\n",
            "629/629 [==============================] - 4s 6ms/step - loss: 0.2639 - accuracy: 0.8997 - val_loss: 0.3127 - val_accuracy: 0.8878\n",
            "\n",
            "Primera imagen de test:\n",
            "Ankle boot\n",
            "Primera imagen predicha (classifications):\n",
            "Ankle boot\n",
            "---------------------------------------------------------------------------------------------------------------------\n",
            "RED NEURONAL PARA 1024 NEURONAS EN LA CAPA OCULTA:\n",
            "Epoch 1/10\n",
            "629/629 [==============================] - 7s 10ms/step - loss: 0.7408 - accuracy: 0.7423 - val_loss: 0.4729 - val_accuracy: 0.8208\n",
            "Epoch 2/10\n",
            "629/629 [==============================] - 6s 10ms/step - loss: 0.4363 - accuracy: 0.8411 - val_loss: 0.4575 - val_accuracy: 0.8344\n",
            "Epoch 3/10\n",
            "629/629 [==============================] - 6s 10ms/step - loss: 0.3886 - accuracy: 0.8568 - val_loss: 0.4104 - val_accuracy: 0.8485\n",
            "Epoch 4/10\n",
            "629/629 [==============================] - 6s 10ms/step - loss: 0.3738 - accuracy: 0.8640 - val_loss: 0.3830 - val_accuracy: 0.8609\n",
            "Epoch 5/10\n",
            "629/629 [==============================] - 6s 10ms/step - loss: 0.3425 - accuracy: 0.8747 - val_loss: 0.3566 - val_accuracy: 0.8705\n",
            "Epoch 6/10\n",
            "629/629 [==============================] - 6s 10ms/step - loss: 0.3202 - accuracy: 0.8824 - val_loss: 0.3719 - val_accuracy: 0.8649\n",
            "Epoch 7/10\n",
            "629/629 [==============================] - 6s 10ms/step - loss: 0.3077 - accuracy: 0.8879 - val_loss: 0.3362 - val_accuracy: 0.8776\n",
            "Epoch 8/10\n",
            "629/629 [==============================] - 6s 10ms/step - loss: 0.2884 - accuracy: 0.8921 - val_loss: 0.3329 - val_accuracy: 0.8780\n",
            "Epoch 9/10\n",
            "629/629 [==============================] - 6s 10ms/step - loss: 0.2786 - accuracy: 0.8975 - val_loss: 0.3251 - val_accuracy: 0.8829\n",
            "Epoch 10/10\n",
            "629/629 [==============================] - 6s 10ms/step - loss: 0.2628 - accuracy: 0.9026 - val_loss: 0.3348 - val_accuracy: 0.8784\n",
            "\n",
            "Primera imagen de test:\n",
            "Ankle boot\n",
            "Primera imagen predicha (classifications):\n",
            "Ankle boot\n",
            "---------------------------------------------------------------------------------------------------------------------\n"
          ],
          "name": "stdout"
        }
      ]
    },
    {
      "cell_type": "markdown",
      "metadata": {
        "id": "P3NfwdOGZcAa"
      },
      "source": [
        "Tu respuesta a la pregunta 5.1 aquí:"
      ]
    },
    {
      "cell_type": "code",
      "metadata": {
        "id": "9FeCvwsGFOEq"
      },
      "source": [
        "# Tanto para la red de 512 neuronas como para la red de 1024 neuronas la predicción sigue siendo acertada para la primera imagen del dataset \n",
        "# (es decir, la etiqueta de la primera imagen del test coincide con la etiqueta predicha para dicha imagen)"
      ],
      "execution_count": null,
      "outputs": []
    },
    {
      "cell_type": "markdown",
      "metadata": {
        "id": "nFmfpxE1ZcJx"
      },
      "source": [
        "Tu respuesta a la pregunta 5.2 aquí:"
      ]
    },
    {
      "cell_type": "code",
      "metadata": {
        "id": "ODYligOCFsRU"
      },
      "source": [
        "# Aunque la red de 1024 puede estar sobreajustada su capacidad predictiva sigue siendo alta, por lo que sigue siendo capaz de acertar en la predicción."
      ],
      "execution_count": null,
      "outputs": []
    },
    {
      "cell_type": "markdown",
      "metadata": {
        "id": "59eM76O1YekZ"
      },
      "source": [
        "# **Ejercicio 3: ¿por qué es tan importante la capa Flatten?**\n",
        "\n",
        "En este ejercicio vamos a ver que ocurre cuando quitamos la capa flatten, para ello, escribe la red neuronal de la pregunta 1 y no pongas la capa Flatten.\n",
        "\n",
        "**pregunta 6 (0.5 puntos):** ¿puedes explicar porque da el error que da?\n",
        "\n"
      ]
    },
    {
      "cell_type": "code",
      "metadata": {
        "id": "ecfEVKEuG4iU",
        "colab": {
          "base_uri": "https://localhost:8080/",
          "height": 426
        },
        "outputId": "d1c0f1b7-4f05-4df6-826c-33400a119206"
      },
      "source": [
        "model= keras.models.Sequential()\n",
        "# model.add(keras.layers.Flatten(input_shape=[28,28])) \n",
        "model.add(keras.layers.Dense(128, activation=\"sigmoid\"))\n",
        "model.add(keras.layers.Dense(10, activation=\"softmax\")) \n",
        "\n",
        "model.compile(loss = \"sparse_categorical_crossentropy\",\n",
        "              optimizer = \"adam\",\n",
        "              metrics = [\"accuracy\"])\n",
        "\n",
        "history = model.fit(training_images, training_labels, validation_split=0.33, epochs=10, batch_size=64, verbose=1, validation_data=(test_images, test_labels))"
      ],
      "execution_count": null,
      "outputs": [
        {
          "output_type": "stream",
          "text": [
            "Epoch 1/10\n"
          ],
          "name": "stdout"
        },
        {
          "output_type": "error",
          "ename": "InvalidArgumentError",
          "evalue": "ignored",
          "traceback": [
            "\u001b[0;31m---------------------------------------------------------------------------\u001b[0m",
            "\u001b[0;31mInvalidArgumentError\u001b[0m                      Traceback (most recent call last)",
            "\u001b[0;32m<ipython-input-30-6d0af7617241>\u001b[0m in \u001b[0;36m<module>\u001b[0;34m()\u001b[0m\n\u001b[1;32m      8\u001b[0m               metrics = [\"accuracy\"])\n\u001b[1;32m      9\u001b[0m \u001b[0;34m\u001b[0m\u001b[0m\n\u001b[0;32m---> 10\u001b[0;31m \u001b[0mhistory\u001b[0m \u001b[0;34m=\u001b[0m \u001b[0mmodel\u001b[0m\u001b[0;34m.\u001b[0m\u001b[0mfit\u001b[0m\u001b[0;34m(\u001b[0m\u001b[0mtraining_images\u001b[0m\u001b[0;34m,\u001b[0m \u001b[0mtraining_labels\u001b[0m\u001b[0;34m,\u001b[0m \u001b[0mvalidation_split\u001b[0m\u001b[0;34m=\u001b[0m\u001b[0;36m0.33\u001b[0m\u001b[0;34m,\u001b[0m \u001b[0mepochs\u001b[0m\u001b[0;34m=\u001b[0m\u001b[0;36m10\u001b[0m\u001b[0;34m,\u001b[0m \u001b[0mbatch_size\u001b[0m\u001b[0;34m=\u001b[0m\u001b[0;36m64\u001b[0m\u001b[0;34m,\u001b[0m \u001b[0mverbose\u001b[0m\u001b[0;34m=\u001b[0m\u001b[0;36m1\u001b[0m\u001b[0;34m,\u001b[0m \u001b[0mvalidation_data\u001b[0m\u001b[0;34m=\u001b[0m\u001b[0;34m(\u001b[0m\u001b[0mtest_images\u001b[0m\u001b[0;34m,\u001b[0m \u001b[0mtest_labels\u001b[0m\u001b[0;34m)\u001b[0m\u001b[0;34m)\u001b[0m\u001b[0;34m\u001b[0m\u001b[0;34m\u001b[0m\u001b[0m\n\u001b[0m",
            "\u001b[0;32m/usr/local/lib/python3.7/dist-packages/tensorflow/python/keras/engine/training.py\u001b[0m in \u001b[0;36mfit\u001b[0;34m(self, x, y, batch_size, epochs, verbose, callbacks, validation_split, validation_data, shuffle, class_weight, sample_weight, initial_epoch, steps_per_epoch, validation_steps, validation_batch_size, validation_freq, max_queue_size, workers, use_multiprocessing)\u001b[0m\n\u001b[1;32m   1098\u001b[0m                 _r=1):\n\u001b[1;32m   1099\u001b[0m               \u001b[0mcallbacks\u001b[0m\u001b[0;34m.\u001b[0m\u001b[0mon_train_batch_begin\u001b[0m\u001b[0;34m(\u001b[0m\u001b[0mstep\u001b[0m\u001b[0;34m)\u001b[0m\u001b[0;34m\u001b[0m\u001b[0;34m\u001b[0m\u001b[0m\n\u001b[0;32m-> 1100\u001b[0;31m               \u001b[0mtmp_logs\u001b[0m \u001b[0;34m=\u001b[0m \u001b[0mself\u001b[0m\u001b[0;34m.\u001b[0m\u001b[0mtrain_function\u001b[0m\u001b[0;34m(\u001b[0m\u001b[0miterator\u001b[0m\u001b[0;34m)\u001b[0m\u001b[0;34m\u001b[0m\u001b[0;34m\u001b[0m\u001b[0m\n\u001b[0m\u001b[1;32m   1101\u001b[0m               \u001b[0;32mif\u001b[0m \u001b[0mdata_handler\u001b[0m\u001b[0;34m.\u001b[0m\u001b[0mshould_sync\u001b[0m\u001b[0;34m:\u001b[0m\u001b[0;34m\u001b[0m\u001b[0;34m\u001b[0m\u001b[0m\n\u001b[1;32m   1102\u001b[0m                 \u001b[0mcontext\u001b[0m\u001b[0;34m.\u001b[0m\u001b[0masync_wait\u001b[0m\u001b[0;34m(\u001b[0m\u001b[0;34m)\u001b[0m\u001b[0;34m\u001b[0m\u001b[0;34m\u001b[0m\u001b[0m\n",
            "\u001b[0;32m/usr/local/lib/python3.7/dist-packages/tensorflow/python/eager/def_function.py\u001b[0m in \u001b[0;36m__call__\u001b[0;34m(self, *args, **kwds)\u001b[0m\n\u001b[1;32m    826\u001b[0m     \u001b[0mtracing_count\u001b[0m \u001b[0;34m=\u001b[0m \u001b[0mself\u001b[0m\u001b[0;34m.\u001b[0m\u001b[0mexperimental_get_tracing_count\u001b[0m\u001b[0;34m(\u001b[0m\u001b[0;34m)\u001b[0m\u001b[0;34m\u001b[0m\u001b[0;34m\u001b[0m\u001b[0m\n\u001b[1;32m    827\u001b[0m     \u001b[0;32mwith\u001b[0m \u001b[0mtrace\u001b[0m\u001b[0;34m.\u001b[0m\u001b[0mTrace\u001b[0m\u001b[0;34m(\u001b[0m\u001b[0mself\u001b[0m\u001b[0;34m.\u001b[0m\u001b[0m_name\u001b[0m\u001b[0;34m)\u001b[0m \u001b[0;32mas\u001b[0m \u001b[0mtm\u001b[0m\u001b[0;34m:\u001b[0m\u001b[0;34m\u001b[0m\u001b[0;34m\u001b[0m\u001b[0m\n\u001b[0;32m--> 828\u001b[0;31m       \u001b[0mresult\u001b[0m \u001b[0;34m=\u001b[0m \u001b[0mself\u001b[0m\u001b[0;34m.\u001b[0m\u001b[0m_call\u001b[0m\u001b[0;34m(\u001b[0m\u001b[0;34m*\u001b[0m\u001b[0margs\u001b[0m\u001b[0;34m,\u001b[0m \u001b[0;34m**\u001b[0m\u001b[0mkwds\u001b[0m\u001b[0;34m)\u001b[0m\u001b[0;34m\u001b[0m\u001b[0;34m\u001b[0m\u001b[0m\n\u001b[0m\u001b[1;32m    829\u001b[0m       \u001b[0mcompiler\u001b[0m \u001b[0;34m=\u001b[0m \u001b[0;34m\"xla\"\u001b[0m \u001b[0;32mif\u001b[0m \u001b[0mself\u001b[0m\u001b[0;34m.\u001b[0m\u001b[0m_experimental_compile\u001b[0m \u001b[0;32melse\u001b[0m \u001b[0;34m\"nonXla\"\u001b[0m\u001b[0;34m\u001b[0m\u001b[0;34m\u001b[0m\u001b[0m\n\u001b[1;32m    830\u001b[0m       \u001b[0mnew_tracing_count\u001b[0m \u001b[0;34m=\u001b[0m \u001b[0mself\u001b[0m\u001b[0;34m.\u001b[0m\u001b[0mexperimental_get_tracing_count\u001b[0m\u001b[0;34m(\u001b[0m\u001b[0;34m)\u001b[0m\u001b[0;34m\u001b[0m\u001b[0;34m\u001b[0m\u001b[0m\n",
            "\u001b[0;32m/usr/local/lib/python3.7/dist-packages/tensorflow/python/eager/def_function.py\u001b[0m in \u001b[0;36m_call\u001b[0;34m(self, *args, **kwds)\u001b[0m\n\u001b[1;32m    886\u001b[0m         \u001b[0;31m# Lifting succeeded, so variables are initialized and we can run the\u001b[0m\u001b[0;34m\u001b[0m\u001b[0;34m\u001b[0m\u001b[0;34m\u001b[0m\u001b[0m\n\u001b[1;32m    887\u001b[0m         \u001b[0;31m# stateless function.\u001b[0m\u001b[0;34m\u001b[0m\u001b[0;34m\u001b[0m\u001b[0;34m\u001b[0m\u001b[0m\n\u001b[0;32m--> 888\u001b[0;31m         \u001b[0;32mreturn\u001b[0m \u001b[0mself\u001b[0m\u001b[0;34m.\u001b[0m\u001b[0m_stateless_fn\u001b[0m\u001b[0;34m(\u001b[0m\u001b[0;34m*\u001b[0m\u001b[0margs\u001b[0m\u001b[0;34m,\u001b[0m \u001b[0;34m**\u001b[0m\u001b[0mkwds\u001b[0m\u001b[0;34m)\u001b[0m\u001b[0;34m\u001b[0m\u001b[0;34m\u001b[0m\u001b[0m\n\u001b[0m\u001b[1;32m    889\u001b[0m     \u001b[0;32melse\u001b[0m\u001b[0;34m:\u001b[0m\u001b[0;34m\u001b[0m\u001b[0;34m\u001b[0m\u001b[0m\n\u001b[1;32m    890\u001b[0m       \u001b[0m_\u001b[0m\u001b[0;34m,\u001b[0m \u001b[0m_\u001b[0m\u001b[0;34m,\u001b[0m \u001b[0m_\u001b[0m\u001b[0;34m,\u001b[0m \u001b[0mfiltered_flat_args\u001b[0m \u001b[0;34m=\u001b[0m\u001b[0;31m \u001b[0m\u001b[0;31m\\\u001b[0m\u001b[0;34m\u001b[0m\u001b[0;34m\u001b[0m\u001b[0m\n",
            "\u001b[0;32m/usr/local/lib/python3.7/dist-packages/tensorflow/python/eager/function.py\u001b[0m in \u001b[0;36m__call__\u001b[0;34m(self, *args, **kwargs)\u001b[0m\n\u001b[1;32m   2941\u001b[0m        filtered_flat_args) = self._maybe_define_function(args, kwargs)\n\u001b[1;32m   2942\u001b[0m     return graph_function._call_flat(\n\u001b[0;32m-> 2943\u001b[0;31m         filtered_flat_args, captured_inputs=graph_function.captured_inputs)  # pylint: disable=protected-access\n\u001b[0m\u001b[1;32m   2944\u001b[0m \u001b[0;34m\u001b[0m\u001b[0m\n\u001b[1;32m   2945\u001b[0m   \u001b[0;34m@\u001b[0m\u001b[0mproperty\u001b[0m\u001b[0;34m\u001b[0m\u001b[0;34m\u001b[0m\u001b[0m\n",
            "\u001b[0;32m/usr/local/lib/python3.7/dist-packages/tensorflow/python/eager/function.py\u001b[0m in \u001b[0;36m_call_flat\u001b[0;34m(self, args, captured_inputs, cancellation_manager)\u001b[0m\n\u001b[1;32m   1917\u001b[0m       \u001b[0;31m# No tape is watching; skip to running the function.\u001b[0m\u001b[0;34m\u001b[0m\u001b[0;34m\u001b[0m\u001b[0;34m\u001b[0m\u001b[0m\n\u001b[1;32m   1918\u001b[0m       return self._build_call_outputs(self._inference_function.call(\n\u001b[0;32m-> 1919\u001b[0;31m           ctx, args, cancellation_manager=cancellation_manager))\n\u001b[0m\u001b[1;32m   1920\u001b[0m     forward_backward = self._select_forward_and_backward_functions(\n\u001b[1;32m   1921\u001b[0m         \u001b[0margs\u001b[0m\u001b[0;34m,\u001b[0m\u001b[0;34m\u001b[0m\u001b[0;34m\u001b[0m\u001b[0m\n",
            "\u001b[0;32m/usr/local/lib/python3.7/dist-packages/tensorflow/python/eager/function.py\u001b[0m in \u001b[0;36mcall\u001b[0;34m(self, ctx, args, cancellation_manager)\u001b[0m\n\u001b[1;32m    558\u001b[0m               \u001b[0minputs\u001b[0m\u001b[0;34m=\u001b[0m\u001b[0margs\u001b[0m\u001b[0;34m,\u001b[0m\u001b[0;34m\u001b[0m\u001b[0;34m\u001b[0m\u001b[0m\n\u001b[1;32m    559\u001b[0m               \u001b[0mattrs\u001b[0m\u001b[0;34m=\u001b[0m\u001b[0mattrs\u001b[0m\u001b[0;34m,\u001b[0m\u001b[0;34m\u001b[0m\u001b[0;34m\u001b[0m\u001b[0m\n\u001b[0;32m--> 560\u001b[0;31m               ctx=ctx)\n\u001b[0m\u001b[1;32m    561\u001b[0m         \u001b[0;32melse\u001b[0m\u001b[0;34m:\u001b[0m\u001b[0;34m\u001b[0m\u001b[0;34m\u001b[0m\u001b[0m\n\u001b[1;32m    562\u001b[0m           outputs = execute.execute_with_cancellation(\n",
            "\u001b[0;32m/usr/local/lib/python3.7/dist-packages/tensorflow/python/eager/execute.py\u001b[0m in \u001b[0;36mquick_execute\u001b[0;34m(op_name, num_outputs, inputs, attrs, ctx, name)\u001b[0m\n\u001b[1;32m     58\u001b[0m     \u001b[0mctx\u001b[0m\u001b[0;34m.\u001b[0m\u001b[0mensure_initialized\u001b[0m\u001b[0;34m(\u001b[0m\u001b[0;34m)\u001b[0m\u001b[0;34m\u001b[0m\u001b[0;34m\u001b[0m\u001b[0m\n\u001b[1;32m     59\u001b[0m     tensors = pywrap_tfe.TFE_Py_Execute(ctx._handle, device_name, op_name,\n\u001b[0;32m---> 60\u001b[0;31m                                         inputs, attrs, num_outputs)\n\u001b[0m\u001b[1;32m     61\u001b[0m   \u001b[0;32mexcept\u001b[0m \u001b[0mcore\u001b[0m\u001b[0;34m.\u001b[0m\u001b[0m_NotOkStatusException\u001b[0m \u001b[0;32mas\u001b[0m \u001b[0me\u001b[0m\u001b[0;34m:\u001b[0m\u001b[0;34m\u001b[0m\u001b[0;34m\u001b[0m\u001b[0m\n\u001b[1;32m     62\u001b[0m     \u001b[0;32mif\u001b[0m \u001b[0mname\u001b[0m \u001b[0;32mis\u001b[0m \u001b[0;32mnot\u001b[0m \u001b[0;32mNone\u001b[0m\u001b[0;34m:\u001b[0m\u001b[0;34m\u001b[0m\u001b[0;34m\u001b[0m\u001b[0m\n",
            "\u001b[0;31mInvalidArgumentError\u001b[0m:  assertion failed: [Condition x == y did not hold element-wise:] [x (sparse_categorical_crossentropy/SparseSoftmaxCrossEntropyWithLogits/Shape_1:0) = ] [64 1] [y (sparse_categorical_crossentropy/SparseSoftmaxCrossEntropyWithLogits/strided_slice:0) = ] [64 28]\n\t [[node sparse_categorical_crossentropy/SparseSoftmaxCrossEntropyWithLogits/assert_equal_1/Assert/Assert (defined at <ipython-input-30-6d0af7617241>:10) ]] [Op:__inference_train_function_216190]\n\nFunction call stack:\ntrain_function\n"
          ]
        }
      ]
    },
    {
      "cell_type": "markdown",
      "metadata": {
        "id": "-aNmrkkOZN6D"
      },
      "source": [
        "Tu respuesta a la pregunta 6 aquí:"
      ]
    },
    {
      "cell_type": "code",
      "metadata": {
        "id": "n7_QS13QHgrO"
      },
      "source": [
        "# La capa flaten cumple la función de reducir la dimensión de las imágenes a un solo vector, esto es, colocando el valor de los píxeles en una sola línea e introduciendo dichos valores uno a uno.\n",
        "# La red neuronal no es capaz de asumir las imágenes como arrays de varias dimensiones.\n",
        "# Por estas razones, las redes neuronales que emplean imágenes requieren de una capa de entrada flatten para reducir la dimensión de las mismas."
      ],
      "execution_count": null,
      "outputs": []
    },
    {
      "cell_type": "markdown",
      "metadata": {
        "id": "f37cIr81ZYJj"
      },
      "source": [
        "# **Ejercicio 4: Número de neuronas de la capa de salida**\n",
        "Considerad la capa final, la de salida de la red neuronal de la pregunta 1.\n",
        "\n",
        "**pregunta 7.1 (0.25 puntos)**: ¿Por qué son 10 las neuronas de la última capa?\n",
        "\n",
        "**pregunta 7.2 (0.25 puntos)**: ¿Qué pasaría si tuvieras una cantidad diferente a 10? \n",
        "\n",
        "Por ejemplo, intenta entrenar la red con 5, para ello utiliza la red neuronal de la pregunta 1 y cambia a 5 el número de neuronas en la última capa."
      ]
    },
    {
      "cell_type": "code",
      "metadata": {
        "id": "FhbZkppYZOCS",
        "colab": {
          "base_uri": "https://localhost:8080/",
          "height": 426
        },
        "outputId": "84d91f4d-1e31-4b77-d999-8e9b5d54feb8"
      },
      "source": [
        "model= keras.models.Sequential()\n",
        "model.add(keras.layers.Flatten(input_shape=[28,28])) \n",
        "model.add(keras.layers.Dense(128, activation=\"sigmoid\"))\n",
        "model.add(keras.layers.Dense(5, activation=\"softmax\")) \n",
        "\n",
        "model.compile(loss = \"sparse_categorical_crossentropy\",\n",
        "              optimizer = \"adam\",\n",
        "              metrics = [\"accuracy\"])\n",
        "\n",
        "history = model.fit(training_images, training_labels, validation_split=0.33, epochs=10, batch_size=64, verbose=1, validation_data=(test_images, test_labels))"
      ],
      "execution_count": null,
      "outputs": [
        {
          "output_type": "stream",
          "text": [
            "Epoch 1/10\n"
          ],
          "name": "stdout"
        },
        {
          "output_type": "error",
          "ename": "InvalidArgumentError",
          "evalue": "ignored",
          "traceback": [
            "\u001b[0;31m---------------------------------------------------------------------------\u001b[0m",
            "\u001b[0;31mInvalidArgumentError\u001b[0m                      Traceback (most recent call last)",
            "\u001b[0;32m<ipython-input-31-930f3dc66597>\u001b[0m in \u001b[0;36m<module>\u001b[0;34m()\u001b[0m\n\u001b[1;32m      8\u001b[0m               metrics = [\"accuracy\"])\n\u001b[1;32m      9\u001b[0m \u001b[0;34m\u001b[0m\u001b[0m\n\u001b[0;32m---> 10\u001b[0;31m \u001b[0mhistory\u001b[0m \u001b[0;34m=\u001b[0m \u001b[0mmodel\u001b[0m\u001b[0;34m.\u001b[0m\u001b[0mfit\u001b[0m\u001b[0;34m(\u001b[0m\u001b[0mtraining_images\u001b[0m\u001b[0;34m,\u001b[0m \u001b[0mtraining_labels\u001b[0m\u001b[0;34m,\u001b[0m \u001b[0mvalidation_split\u001b[0m\u001b[0;34m=\u001b[0m\u001b[0;36m0.33\u001b[0m\u001b[0;34m,\u001b[0m \u001b[0mepochs\u001b[0m\u001b[0;34m=\u001b[0m\u001b[0;36m10\u001b[0m\u001b[0;34m,\u001b[0m \u001b[0mbatch_size\u001b[0m\u001b[0;34m=\u001b[0m\u001b[0;36m64\u001b[0m\u001b[0;34m,\u001b[0m \u001b[0mverbose\u001b[0m\u001b[0;34m=\u001b[0m\u001b[0;36m1\u001b[0m\u001b[0;34m,\u001b[0m \u001b[0mvalidation_data\u001b[0m\u001b[0;34m=\u001b[0m\u001b[0;34m(\u001b[0m\u001b[0mtest_images\u001b[0m\u001b[0;34m,\u001b[0m \u001b[0mtest_labels\u001b[0m\u001b[0;34m)\u001b[0m\u001b[0;34m)\u001b[0m\u001b[0;34m\u001b[0m\u001b[0;34m\u001b[0m\u001b[0m\n\u001b[0m",
            "\u001b[0;32m/usr/local/lib/python3.7/dist-packages/tensorflow/python/keras/engine/training.py\u001b[0m in \u001b[0;36mfit\u001b[0;34m(self, x, y, batch_size, epochs, verbose, callbacks, validation_split, validation_data, shuffle, class_weight, sample_weight, initial_epoch, steps_per_epoch, validation_steps, validation_batch_size, validation_freq, max_queue_size, workers, use_multiprocessing)\u001b[0m\n\u001b[1;32m   1098\u001b[0m                 _r=1):\n\u001b[1;32m   1099\u001b[0m               \u001b[0mcallbacks\u001b[0m\u001b[0;34m.\u001b[0m\u001b[0mon_train_batch_begin\u001b[0m\u001b[0;34m(\u001b[0m\u001b[0mstep\u001b[0m\u001b[0;34m)\u001b[0m\u001b[0;34m\u001b[0m\u001b[0;34m\u001b[0m\u001b[0m\n\u001b[0;32m-> 1100\u001b[0;31m               \u001b[0mtmp_logs\u001b[0m \u001b[0;34m=\u001b[0m \u001b[0mself\u001b[0m\u001b[0;34m.\u001b[0m\u001b[0mtrain_function\u001b[0m\u001b[0;34m(\u001b[0m\u001b[0miterator\u001b[0m\u001b[0;34m)\u001b[0m\u001b[0;34m\u001b[0m\u001b[0;34m\u001b[0m\u001b[0m\n\u001b[0m\u001b[1;32m   1101\u001b[0m               \u001b[0;32mif\u001b[0m \u001b[0mdata_handler\u001b[0m\u001b[0;34m.\u001b[0m\u001b[0mshould_sync\u001b[0m\u001b[0;34m:\u001b[0m\u001b[0;34m\u001b[0m\u001b[0;34m\u001b[0m\u001b[0m\n\u001b[1;32m   1102\u001b[0m                 \u001b[0mcontext\u001b[0m\u001b[0;34m.\u001b[0m\u001b[0masync_wait\u001b[0m\u001b[0;34m(\u001b[0m\u001b[0;34m)\u001b[0m\u001b[0;34m\u001b[0m\u001b[0;34m\u001b[0m\u001b[0m\n",
            "\u001b[0;32m/usr/local/lib/python3.7/dist-packages/tensorflow/python/eager/def_function.py\u001b[0m in \u001b[0;36m__call__\u001b[0;34m(self, *args, **kwds)\u001b[0m\n\u001b[1;32m    826\u001b[0m     \u001b[0mtracing_count\u001b[0m \u001b[0;34m=\u001b[0m \u001b[0mself\u001b[0m\u001b[0;34m.\u001b[0m\u001b[0mexperimental_get_tracing_count\u001b[0m\u001b[0;34m(\u001b[0m\u001b[0;34m)\u001b[0m\u001b[0;34m\u001b[0m\u001b[0;34m\u001b[0m\u001b[0m\n\u001b[1;32m    827\u001b[0m     \u001b[0;32mwith\u001b[0m \u001b[0mtrace\u001b[0m\u001b[0;34m.\u001b[0m\u001b[0mTrace\u001b[0m\u001b[0;34m(\u001b[0m\u001b[0mself\u001b[0m\u001b[0;34m.\u001b[0m\u001b[0m_name\u001b[0m\u001b[0;34m)\u001b[0m \u001b[0;32mas\u001b[0m \u001b[0mtm\u001b[0m\u001b[0;34m:\u001b[0m\u001b[0;34m\u001b[0m\u001b[0;34m\u001b[0m\u001b[0m\n\u001b[0;32m--> 828\u001b[0;31m       \u001b[0mresult\u001b[0m \u001b[0;34m=\u001b[0m \u001b[0mself\u001b[0m\u001b[0;34m.\u001b[0m\u001b[0m_call\u001b[0m\u001b[0;34m(\u001b[0m\u001b[0;34m*\u001b[0m\u001b[0margs\u001b[0m\u001b[0;34m,\u001b[0m \u001b[0;34m**\u001b[0m\u001b[0mkwds\u001b[0m\u001b[0;34m)\u001b[0m\u001b[0;34m\u001b[0m\u001b[0;34m\u001b[0m\u001b[0m\n\u001b[0m\u001b[1;32m    829\u001b[0m       \u001b[0mcompiler\u001b[0m \u001b[0;34m=\u001b[0m \u001b[0;34m\"xla\"\u001b[0m \u001b[0;32mif\u001b[0m \u001b[0mself\u001b[0m\u001b[0;34m.\u001b[0m\u001b[0m_experimental_compile\u001b[0m \u001b[0;32melse\u001b[0m \u001b[0;34m\"nonXla\"\u001b[0m\u001b[0;34m\u001b[0m\u001b[0;34m\u001b[0m\u001b[0m\n\u001b[1;32m    830\u001b[0m       \u001b[0mnew_tracing_count\u001b[0m \u001b[0;34m=\u001b[0m \u001b[0mself\u001b[0m\u001b[0;34m.\u001b[0m\u001b[0mexperimental_get_tracing_count\u001b[0m\u001b[0;34m(\u001b[0m\u001b[0;34m)\u001b[0m\u001b[0;34m\u001b[0m\u001b[0;34m\u001b[0m\u001b[0m\n",
            "\u001b[0;32m/usr/local/lib/python3.7/dist-packages/tensorflow/python/eager/def_function.py\u001b[0m in \u001b[0;36m_call\u001b[0;34m(self, *args, **kwds)\u001b[0m\n\u001b[1;32m    886\u001b[0m         \u001b[0;31m# Lifting succeeded, so variables are initialized and we can run the\u001b[0m\u001b[0;34m\u001b[0m\u001b[0;34m\u001b[0m\u001b[0;34m\u001b[0m\u001b[0m\n\u001b[1;32m    887\u001b[0m         \u001b[0;31m# stateless function.\u001b[0m\u001b[0;34m\u001b[0m\u001b[0;34m\u001b[0m\u001b[0;34m\u001b[0m\u001b[0m\n\u001b[0;32m--> 888\u001b[0;31m         \u001b[0;32mreturn\u001b[0m \u001b[0mself\u001b[0m\u001b[0;34m.\u001b[0m\u001b[0m_stateless_fn\u001b[0m\u001b[0;34m(\u001b[0m\u001b[0;34m*\u001b[0m\u001b[0margs\u001b[0m\u001b[0;34m,\u001b[0m \u001b[0;34m**\u001b[0m\u001b[0mkwds\u001b[0m\u001b[0;34m)\u001b[0m\u001b[0;34m\u001b[0m\u001b[0;34m\u001b[0m\u001b[0m\n\u001b[0m\u001b[1;32m    889\u001b[0m     \u001b[0;32melse\u001b[0m\u001b[0;34m:\u001b[0m\u001b[0;34m\u001b[0m\u001b[0;34m\u001b[0m\u001b[0m\n\u001b[1;32m    890\u001b[0m       \u001b[0m_\u001b[0m\u001b[0;34m,\u001b[0m \u001b[0m_\u001b[0m\u001b[0;34m,\u001b[0m \u001b[0m_\u001b[0m\u001b[0;34m,\u001b[0m \u001b[0mfiltered_flat_args\u001b[0m \u001b[0;34m=\u001b[0m\u001b[0;31m \u001b[0m\u001b[0;31m\\\u001b[0m\u001b[0;34m\u001b[0m\u001b[0;34m\u001b[0m\u001b[0m\n",
            "\u001b[0;32m/usr/local/lib/python3.7/dist-packages/tensorflow/python/eager/function.py\u001b[0m in \u001b[0;36m__call__\u001b[0;34m(self, *args, **kwargs)\u001b[0m\n\u001b[1;32m   2941\u001b[0m        filtered_flat_args) = self._maybe_define_function(args, kwargs)\n\u001b[1;32m   2942\u001b[0m     return graph_function._call_flat(\n\u001b[0;32m-> 2943\u001b[0;31m         filtered_flat_args, captured_inputs=graph_function.captured_inputs)  # pylint: disable=protected-access\n\u001b[0m\u001b[1;32m   2944\u001b[0m \u001b[0;34m\u001b[0m\u001b[0m\n\u001b[1;32m   2945\u001b[0m   \u001b[0;34m@\u001b[0m\u001b[0mproperty\u001b[0m\u001b[0;34m\u001b[0m\u001b[0;34m\u001b[0m\u001b[0m\n",
            "\u001b[0;32m/usr/local/lib/python3.7/dist-packages/tensorflow/python/eager/function.py\u001b[0m in \u001b[0;36m_call_flat\u001b[0;34m(self, args, captured_inputs, cancellation_manager)\u001b[0m\n\u001b[1;32m   1917\u001b[0m       \u001b[0;31m# No tape is watching; skip to running the function.\u001b[0m\u001b[0;34m\u001b[0m\u001b[0;34m\u001b[0m\u001b[0;34m\u001b[0m\u001b[0m\n\u001b[1;32m   1918\u001b[0m       return self._build_call_outputs(self._inference_function.call(\n\u001b[0;32m-> 1919\u001b[0;31m           ctx, args, cancellation_manager=cancellation_manager))\n\u001b[0m\u001b[1;32m   1920\u001b[0m     forward_backward = self._select_forward_and_backward_functions(\n\u001b[1;32m   1921\u001b[0m         \u001b[0margs\u001b[0m\u001b[0;34m,\u001b[0m\u001b[0;34m\u001b[0m\u001b[0;34m\u001b[0m\u001b[0m\n",
            "\u001b[0;32m/usr/local/lib/python3.7/dist-packages/tensorflow/python/eager/function.py\u001b[0m in \u001b[0;36mcall\u001b[0;34m(self, ctx, args, cancellation_manager)\u001b[0m\n\u001b[1;32m    558\u001b[0m               \u001b[0minputs\u001b[0m\u001b[0;34m=\u001b[0m\u001b[0margs\u001b[0m\u001b[0;34m,\u001b[0m\u001b[0;34m\u001b[0m\u001b[0;34m\u001b[0m\u001b[0m\n\u001b[1;32m    559\u001b[0m               \u001b[0mattrs\u001b[0m\u001b[0;34m=\u001b[0m\u001b[0mattrs\u001b[0m\u001b[0;34m,\u001b[0m\u001b[0;34m\u001b[0m\u001b[0;34m\u001b[0m\u001b[0m\n\u001b[0;32m--> 560\u001b[0;31m               ctx=ctx)\n\u001b[0m\u001b[1;32m    561\u001b[0m         \u001b[0;32melse\u001b[0m\u001b[0;34m:\u001b[0m\u001b[0;34m\u001b[0m\u001b[0;34m\u001b[0m\u001b[0m\n\u001b[1;32m    562\u001b[0m           outputs = execute.execute_with_cancellation(\n",
            "\u001b[0;32m/usr/local/lib/python3.7/dist-packages/tensorflow/python/eager/execute.py\u001b[0m in \u001b[0;36mquick_execute\u001b[0;34m(op_name, num_outputs, inputs, attrs, ctx, name)\u001b[0m\n\u001b[1;32m     58\u001b[0m     \u001b[0mctx\u001b[0m\u001b[0;34m.\u001b[0m\u001b[0mensure_initialized\u001b[0m\u001b[0;34m(\u001b[0m\u001b[0;34m)\u001b[0m\u001b[0;34m\u001b[0m\u001b[0;34m\u001b[0m\u001b[0m\n\u001b[1;32m     59\u001b[0m     tensors = pywrap_tfe.TFE_Py_Execute(ctx._handle, device_name, op_name,\n\u001b[0;32m---> 60\u001b[0;31m                                         inputs, attrs, num_outputs)\n\u001b[0m\u001b[1;32m     61\u001b[0m   \u001b[0;32mexcept\u001b[0m \u001b[0mcore\u001b[0m\u001b[0;34m.\u001b[0m\u001b[0m_NotOkStatusException\u001b[0m \u001b[0;32mas\u001b[0m \u001b[0me\u001b[0m\u001b[0;34m:\u001b[0m\u001b[0;34m\u001b[0m\u001b[0;34m\u001b[0m\u001b[0m\n\u001b[1;32m     62\u001b[0m     \u001b[0;32mif\u001b[0m \u001b[0mname\u001b[0m \u001b[0;32mis\u001b[0m \u001b[0;32mnot\u001b[0m \u001b[0;32mNone\u001b[0m\u001b[0;34m:\u001b[0m\u001b[0;34m\u001b[0m\u001b[0;34m\u001b[0m\u001b[0m\n",
            "\u001b[0;31mInvalidArgumentError\u001b[0m:  Received a label value of 9 which is outside the valid range of [0, 5).  Label values: 6 5 9 6 9 3 7 0 1 0 4 5 1 8 3 5 0 0 3 1 9 0 8 2 7 6 0 1 2 0 8 6 2 2 4 7 8 5 4 5 6 8 5 9 2 2 6 6 6 3 5 9 7 5 9 2 5 3 5 0 7 4 4 1\n\t [[node sparse_categorical_crossentropy/SparseSoftmaxCrossEntropyWithLogits/SparseSoftmaxCrossEntropyWithLogits (defined at <ipython-input-31-930f3dc66597>:10) ]] [Op:__inference_train_function_216733]\n\nFunction call stack:\ntrain_function\n"
          ]
        }
      ]
    },
    {
      "cell_type": "markdown",
      "metadata": {
        "id": "SLsQcq-6aUoD"
      },
      "source": [
        "Tu respuestas a la pregunta 7.1 aquí:"
      ]
    },
    {
      "cell_type": "code",
      "metadata": {
        "id": "ijPW9K_hInaF"
      },
      "source": [
        "# La última capa ha de tener el mismo número de neuronas de salida que tipos de etiquetas distintas presentes en el modelo.\n",
        "# Por lo tanto, para el dataset de Fashion MNIST ha de tener 10 neuronas puesto que dicho dataset consta de 10 tipos distintos de etiquetas."
      ],
      "execution_count": null,
      "outputs": []
    },
    {
      "cell_type": "markdown",
      "metadata": {
        "id": "J1f_7ZFeaUu6"
      },
      "source": [
        "Tu respuestas a la pregunta 7.2 aquí:"
      ]
    },
    {
      "cell_type": "code",
      "metadata": {
        "id": "8an1t5j1JHye"
      },
      "source": [
        "# De ser el valor distinto obtendríamos un error.\n",
        "# Como se muestra en el código previo, para 5 neuronas de salida, el programa arroja un error \"InvalidArgumentError:  Received a label value of 9 which is outside the valid range of [0, 5)\".\n",
        "# Este mensaje informa de que las etiquetas están por encima del rango de 0 a 5, es decir, que sobrepasa el número de neuronas de salida. "
      ],
      "execution_count": null,
      "outputs": []
    },
    {
      "cell_type": "markdown",
      "metadata": {
        "id": "HNIBCkshaf2y"
      },
      "source": [
        "# Ejercicio 5: Aumento de epoch y su efecto en la red neuronal\n",
        "En este ejercicio vamos a ver el impacto de aumentar los epoch en el entrenamiento. Usando la red neuronal de la pregunta 1:\n",
        "\n",
        "**pregunta 8.1 (0.20 puntos)**\n",
        "* Intentad 15 epoch para su entrenamiento, probablemente obtendras un modelo con una pérdida mucho mejor que el que tiene 5.\n",
        "\n",
        "**pregunta 8.2 (0.20 puntos)**\n",
        "* Intenta ahora con 30 epoch para su entrenamiento, podrás ver que el valor de la pérdida deja de disminuir, y a veces aumenta.\n",
        "\n",
        "**pregunta 8.3 (0.60 puntos)**\n",
        "* ¿Porque que piensas que ocurre esto? Explica tu respuesta y da el nombre de este efecto si lo conoces."
      ]
    },
    {
      "cell_type": "code",
      "metadata": {
        "id": "Cb5vk_imG4iZ"
      },
      "source": [
        "# Generamos una función de diseño, compilación, entrenamiento y evaluación; únicamente parametrizable por el valor de epoch\n",
        "def dcee_epoch (epoch_val):\n",
        "  print(\"RED NEURONAL PARA \" + str(epoch_val) + \" EPOCH EN EL ENTRENAMIENTO\")\n",
        "  model = keras.models.Sequential()\n",
        "  model.add(keras.layers.Flatten(input_shape=[28,28])) \n",
        "  model.add(keras.layers.Dense(128, activation=\"sigmoid\"))\n",
        "  model.add(keras.layers.Dense(10, activation=\"softmax\")) \n",
        "\n",
        "  model.compile(loss = \"sparse_categorical_crossentropy\",\n",
        "                optimizer = \"adam\",\n",
        "                metrics = [\"accuracy\"])\n",
        "\n",
        "  history = model.fit(training_images, training_labels, validation_split=0.33, epochs=epoch_val, batch_size=64, verbose=1, validation_data=(test_images, test_labels))\n",
        "  print(\"\")\n",
        "  print(\"Evaluación sobre los datos de test:\")\n",
        "  model.evaluate(test_images, test_labels)\n",
        "  print(\"---------------------------------------------------------------------------------------------------------------------\")"
      ],
      "execution_count": 11,
      "outputs": []
    },
    {
      "cell_type": "code",
      "metadata": {
        "id": "I9jQ26Gda5cv",
        "colab": {
          "base_uri": "https://localhost:8080/"
        },
        "outputId": "b43c0ba3-e489-4383-ef8f-0f5b36e2dbb0"
      },
      "source": [
        "dcee_epoch(15)\n",
        "dcee_epoch(30)"
      ],
      "execution_count": 12,
      "outputs": [
        {
          "output_type": "stream",
          "text": [
            "RED NEURONAL PARA 15 EPOCH EN EL ENTRENAMIENTO\n",
            "Epoch 1/15\n",
            "629/629 [==============================] - 3s 4ms/step - loss: 0.9217 - accuracy: 0.7148 - val_loss: 0.4882 - val_accuracy: 0.8343\n",
            "Epoch 2/15\n",
            "629/629 [==============================] - 2s 3ms/step - loss: 0.4571 - accuracy: 0.8405 - val_loss: 0.4177 - val_accuracy: 0.8508\n",
            "Epoch 3/15\n",
            "629/629 [==============================] - 2s 3ms/step - loss: 0.4110 - accuracy: 0.8517 - val_loss: 0.3946 - val_accuracy: 0.8572\n",
            "Epoch 4/15\n",
            "629/629 [==============================] - 2s 3ms/step - loss: 0.3750 - accuracy: 0.8659 - val_loss: 0.3790 - val_accuracy: 0.8631\n",
            "Epoch 5/15\n",
            "629/629 [==============================] - 2s 3ms/step - loss: 0.3546 - accuracy: 0.8707 - val_loss: 0.3766 - val_accuracy: 0.8639\n",
            "Epoch 6/15\n",
            "629/629 [==============================] - 2s 3ms/step - loss: 0.3444 - accuracy: 0.8746 - val_loss: 0.3615 - val_accuracy: 0.8688\n",
            "Epoch 7/15\n",
            "629/629 [==============================] - 2s 3ms/step - loss: 0.3309 - accuracy: 0.8806 - val_loss: 0.3497 - val_accuracy: 0.8730\n",
            "Epoch 8/15\n",
            "629/629 [==============================] - 2s 3ms/step - loss: 0.3138 - accuracy: 0.8857 - val_loss: 0.3439 - val_accuracy: 0.8776\n",
            "Epoch 9/15\n",
            "629/629 [==============================] - 2s 3ms/step - loss: 0.3079 - accuracy: 0.8864 - val_loss: 0.3336 - val_accuracy: 0.8775\n",
            "Epoch 10/15\n",
            "629/629 [==============================] - 2s 3ms/step - loss: 0.2967 - accuracy: 0.8902 - val_loss: 0.3307 - val_accuracy: 0.8797\n",
            "Epoch 11/15\n",
            "629/629 [==============================] - 2s 3ms/step - loss: 0.2785 - accuracy: 0.8978 - val_loss: 0.3303 - val_accuracy: 0.8797\n",
            "Epoch 12/15\n",
            "629/629 [==============================] - 2s 3ms/step - loss: 0.2721 - accuracy: 0.9022 - val_loss: 0.3266 - val_accuracy: 0.8821\n",
            "Epoch 13/15\n",
            "629/629 [==============================] - 2s 3ms/step - loss: 0.2641 - accuracy: 0.9041 - val_loss: 0.3155 - val_accuracy: 0.8844\n",
            "Epoch 14/15\n",
            "629/629 [==============================] - 2s 3ms/step - loss: 0.2598 - accuracy: 0.9049 - val_loss: 0.3160 - val_accuracy: 0.8835\n",
            "Epoch 15/15\n",
            "629/629 [==============================] - 2s 3ms/step - loss: 0.2565 - accuracy: 0.9049 - val_loss: 0.3117 - val_accuracy: 0.8870\n",
            "\n",
            "Evaluación sobre los datos de test:\n",
            "313/313 [==============================] - 0s 1ms/step - loss: 0.3420 - accuracy: 0.8768\n",
            "---------------------------------------------------------------------------------------------------------------------\n",
            "RED NEURONAL PARA 30 EPOCH EN EL ENTRENAMIENTO\n",
            "Epoch 1/30\n",
            "629/629 [==============================] - 3s 4ms/step - loss: 0.9153 - accuracy: 0.7205 - val_loss: 0.5007 - val_accuracy: 0.8146\n",
            "Epoch 2/30\n",
            "629/629 [==============================] - 2s 3ms/step - loss: 0.4575 - accuracy: 0.8414 - val_loss: 0.4224 - val_accuracy: 0.8491\n",
            "Epoch 3/30\n",
            "629/629 [==============================] - 2s 3ms/step - loss: 0.3999 - accuracy: 0.8583 - val_loss: 0.3872 - val_accuracy: 0.8617\n",
            "Epoch 4/30\n",
            "629/629 [==============================] - 2s 3ms/step - loss: 0.3779 - accuracy: 0.8671 - val_loss: 0.3841 - val_accuracy: 0.8607\n",
            "Epoch 5/30\n",
            "629/629 [==============================] - 2s 3ms/step - loss: 0.3525 - accuracy: 0.8728 - val_loss: 0.3660 - val_accuracy: 0.8672\n",
            "Epoch 6/30\n",
            "629/629 [==============================] - 2s 3ms/step - loss: 0.3432 - accuracy: 0.8747 - val_loss: 0.3536 - val_accuracy: 0.8733\n",
            "Epoch 7/30\n",
            "629/629 [==============================] - 2s 3ms/step - loss: 0.3218 - accuracy: 0.8839 - val_loss: 0.3483 - val_accuracy: 0.8745\n",
            "Epoch 8/30\n",
            "629/629 [==============================] - 2s 3ms/step - loss: 0.3105 - accuracy: 0.8872 - val_loss: 0.3432 - val_accuracy: 0.8757\n",
            "Epoch 9/30\n",
            "629/629 [==============================] - 2s 3ms/step - loss: 0.2992 - accuracy: 0.8921 - val_loss: 0.3485 - val_accuracy: 0.8718\n",
            "Epoch 10/30\n",
            "629/629 [==============================] - 2s 3ms/step - loss: 0.2926 - accuracy: 0.8910 - val_loss: 0.3351 - val_accuracy: 0.8777\n",
            "Epoch 11/30\n",
            "629/629 [==============================] - 2s 3ms/step - loss: 0.2869 - accuracy: 0.8936 - val_loss: 0.3285 - val_accuracy: 0.8790\n",
            "Epoch 12/30\n",
            "629/629 [==============================] - 2s 3ms/step - loss: 0.2745 - accuracy: 0.9008 - val_loss: 0.3263 - val_accuracy: 0.8813\n",
            "Epoch 13/30\n",
            "629/629 [==============================] - 2s 3ms/step - loss: 0.2662 - accuracy: 0.9028 - val_loss: 0.3170 - val_accuracy: 0.8846\n",
            "Epoch 14/30\n",
            "629/629 [==============================] - 2s 3ms/step - loss: 0.2543 - accuracy: 0.9061 - val_loss: 0.3227 - val_accuracy: 0.8847\n",
            "Epoch 15/30\n",
            "629/629 [==============================] - 2s 3ms/step - loss: 0.2500 - accuracy: 0.9087 - val_loss: 0.3132 - val_accuracy: 0.8848\n",
            "Epoch 16/30\n",
            "629/629 [==============================] - 2s 3ms/step - loss: 0.2438 - accuracy: 0.9131 - val_loss: 0.3173 - val_accuracy: 0.8857\n",
            "Epoch 17/30\n",
            "629/629 [==============================] - 2s 3ms/step - loss: 0.2400 - accuracy: 0.9119 - val_loss: 0.3244 - val_accuracy: 0.8806\n",
            "Epoch 18/30\n",
            "629/629 [==============================] - 2s 3ms/step - loss: 0.2307 - accuracy: 0.9165 - val_loss: 0.3082 - val_accuracy: 0.8873\n",
            "Epoch 19/30\n",
            "629/629 [==============================] - 2s 3ms/step - loss: 0.2284 - accuracy: 0.9163 - val_loss: 0.3051 - val_accuracy: 0.8890\n",
            "Epoch 20/30\n",
            "629/629 [==============================] - 2s 3ms/step - loss: 0.2260 - accuracy: 0.9175 - val_loss: 0.3059 - val_accuracy: 0.8884\n",
            "Epoch 21/30\n",
            "629/629 [==============================] - 2s 3ms/step - loss: 0.2170 - accuracy: 0.9199 - val_loss: 0.3129 - val_accuracy: 0.8880\n",
            "Epoch 22/30\n",
            "629/629 [==============================] - 2s 3ms/step - loss: 0.2047 - accuracy: 0.9260 - val_loss: 0.3213 - val_accuracy: 0.8834\n",
            "Epoch 23/30\n",
            "629/629 [==============================] - 2s 3ms/step - loss: 0.2040 - accuracy: 0.9253 - val_loss: 0.3118 - val_accuracy: 0.8868\n",
            "Epoch 24/30\n",
            "629/629 [==============================] - 2s 3ms/step - loss: 0.2049 - accuracy: 0.9255 - val_loss: 0.3150 - val_accuracy: 0.8876\n",
            "Epoch 25/30\n",
            "629/629 [==============================] - 2s 3ms/step - loss: 0.1909 - accuracy: 0.9313 - val_loss: 0.3131 - val_accuracy: 0.8866\n",
            "Epoch 26/30\n",
            "629/629 [==============================] - 2s 3ms/step - loss: 0.1889 - accuracy: 0.9314 - val_loss: 0.3323 - val_accuracy: 0.8827\n",
            "Epoch 27/30\n",
            "629/629 [==============================] - 2s 3ms/step - loss: 0.1869 - accuracy: 0.9328 - val_loss: 0.3105 - val_accuracy: 0.8912\n",
            "Epoch 28/30\n",
            "629/629 [==============================] - 2s 3ms/step - loss: 0.1827 - accuracy: 0.9349 - val_loss: 0.3087 - val_accuracy: 0.8898\n",
            "Epoch 29/30\n",
            "629/629 [==============================] - 2s 3ms/step - loss: 0.1744 - accuracy: 0.9380 - val_loss: 0.3089 - val_accuracy: 0.8918\n",
            "Epoch 30/30\n",
            "629/629 [==============================] - 2s 3ms/step - loss: 0.1724 - accuracy: 0.9373 - val_loss: 0.3201 - val_accuracy: 0.8890\n",
            "\n",
            "Evaluación sobre los datos de test:\n",
            "313/313 [==============================] - 0s 1ms/step - loss: 0.3557 - accuracy: 0.8757\n",
            "---------------------------------------------------------------------------------------------------------------------\n"
          ],
          "name": "stdout"
        }
      ]
    },
    {
      "cell_type": "markdown",
      "metadata": {
        "id": "Fs0fjzH4bmSR"
      },
      "source": [
        "Tu respuesta a la pregunta 8.3 aquí:"
      ]
    },
    {
      "cell_type": "code",
      "metadata": {
        "id": "avqFIYG0XhGI"
      },
      "source": [
        "# La función loss es una predicción de error de la red neuronal. Loss se emplea para calcular los gradientes y éstos se emplean para actualizar los pesos de la red neuronal.\n",
        "# El caso de 15 epoch mejora con respecto al original de 10. Sin embargo el loss empieza a crecer y variar cuando empleamos 30 epoch en el entrenamiento. \n",
        "# Esto sucede porque, como el learning rate es alto, divergerá y fallará para encontrar el mínimo de la función loss. Una solución sería reducir el learning rate después de varios epoch."
      ],
      "execution_count": null,
      "outputs": []
    },
    {
      "cell_type": "markdown",
      "metadata": {
        "id": "HlIgNG4Yb_N6"
      },
      "source": [
        "# Ejercicio 6: Early stop\n",
        "En el ejercicio anterior, cuando entrenabas con epoch extras, tenías un problema en el que tu pérdida podía cambiar. Puede que te haya llevado un poco de tiempo esperar a que el entrenamiento lo hiciera,  y puede que hayas pensado \"¿no estaría bien si pudiera parar el entrenamiento cuando alcance un valor deseado?\", es decir, una precisión del 85% podría ser suficiente para ti, y si alcanzas eso después de 3 epoch, ¿por qué sentarte a esperar a que termine muchas más épocas? Como cualquier otro programa existen formas de parar la ejecución\n",
        "\n",
        "A partir del ejemplo de código que\n",
        "\n",
        " se da, hacer una nueva función que tenga en cuenta la perdida (loss) y que pueda parar el código para\n",
        "evitar que ocurra el efeto secundario que vimos en el ejercicio 5."
      ]
    },
    {
      "cell_type": "code",
      "metadata": {
        "id": "b5UwceFUG4ic"
      },
      "source": [
        "# Clase para hacer Early Stop teniendo en cuenta el Accuracy al 85%\n",
        "class myCallback_accuracy(tf.keras.callbacks.Callback):\n",
        "      def on_epoch_end(self, epoch, logs={}):\n",
        "        if(logs.get('accuracy')> 0.85):\n",
        "              print(\"\\nAlcanzado el 85% de precisión, se cancela el entrenamiento!!\")\n",
        "              self.model.stop_training = True"
      ],
      "execution_count": 17,
      "outputs": []
    },
    {
      "cell_type": "code",
      "metadata": {
        "colab": {
          "base_uri": "https://localhost:8080/"
        },
        "id": "AXOHk31SakKN",
        "outputId": "cf34f105-581e-4cc1-d718-46ffc7156f64"
      },
      "source": [
        "# Hacemos una llamada a la clase\n",
        "callback_acc = myCallback_accuracy()\n",
        "# Introducimos el modelo del ejercicio 1\n",
        "model = keras.models.Sequential()\n",
        "model.add(keras.layers.Flatten(input_shape=[28,28])) \n",
        "model.add(keras.layers.Dense(128, activation=\"sigmoid\"))\n",
        "model.add(keras.layers.Dense(10, activation=\"softmax\")) \n",
        "\n",
        "model.compile(loss = \"sparse_categorical_crossentropy\",\n",
        "              optimizer = \"adam\",\n",
        "              metrics = [\"accuracy\"])\n",
        "\n",
        "history = model.fit(training_images, training_labels, validation_split=0.33, epochs=10, batch_size=64, verbose=1, validation_data=(test_images, test_labels), callbacks=[callback_acc])"
      ],
      "execution_count": 20,
      "outputs": [
        {
          "output_type": "stream",
          "text": [
            "Epoch 1/10\n",
            "629/629 [==============================] - 3s 4ms/step - loss: 0.9385 - accuracy: 0.7102 - val_loss: 0.4761 - val_accuracy: 0.8321\n",
            "Epoch 2/10\n",
            "629/629 [==============================] - 2s 3ms/step - loss: 0.4630 - accuracy: 0.8375 - val_loss: 0.4333 - val_accuracy: 0.8446\n",
            "Epoch 3/10\n",
            "629/629 [==============================] - 2s 3ms/step - loss: 0.4082 - accuracy: 0.8547 - val_loss: 0.3988 - val_accuracy: 0.8557\n",
            "\n",
            "Alcanzado el 85% de precisión, se cancela el entrenamiento!!\n"
          ],
          "name": "stdout"
        }
      ]
    },
    {
      "cell_type": "markdown",
      "metadata": {
        "id": "0Bjd8wGKccrn"
      },
      "source": [
        "**Pregunta 9 (2 puntos)**: Completa el siguiente código con una clase callback que una vez alcanzado el 40% de perdida detenga el entrenamiento."
      ]
    },
    {
      "cell_type": "code",
      "metadata": {
        "id": "7IkRT2gjc8r9"
      },
      "source": [
        "# Clase para hacer Early Stop teniendo en cuenta el Loss al 40%\n",
        "class myCallback_loss(tf.keras.callbacks.Callback):\n",
        "      def on_epoch_end(self, epoch, logs={}):\n",
        "        if(logs.get('loss')< 0.4):\n",
        "              print(\"\\nAlcanzado el 40% de pérdida, se cancela el entrenamiento!!\")\n",
        "              self.model.stop_training = True"
      ],
      "execution_count": 26,
      "outputs": []
    },
    {
      "cell_type": "code",
      "metadata": {
        "colab": {
          "base_uri": "https://localhost:8080/"
        },
        "id": "z4IW5Q5ldLuT",
        "outputId": "8e729382-6de5-41ae-f37d-d5b280726243"
      },
      "source": [
        "# Hacemos una llamada a la clase\n",
        "callback_loss = myCallback_loss()\n",
        "# Introducimos el modelo del ejercicio 1, pero cambiando el número de neuronas de la capa oculta a 512 y la función de activación a relu, como se propone en el enunciado.\n",
        "# También se ajusta el entrenamiento a 50 epochs y se retira el número de batch, verbose y validation split como se propone en el enunciado.\n",
        "model = keras.models.Sequential()\n",
        "model.add(keras.layers.Flatten(input_shape=[28,28])) \n",
        "model.add(keras.layers.Dense(512, activation=\"relu\"))\n",
        "model.add(keras.layers.Dense(10, activation=\"softmax\")) \n",
        "\n",
        "model.compile(loss = \"sparse_categorical_crossentropy\",\n",
        "              optimizer = \"adam\",\n",
        "              metrics = [\"accuracy\"])\n",
        "\n",
        "history = model.fit(training_images, training_labels, epochs=50, validation_data=(test_images, test_labels), callbacks=[callback_loss])"
      ],
      "execution_count": 27,
      "outputs": [
        {
          "output_type": "stream",
          "text": [
            "Epoch 1/50\n",
            "1875/1875 [==============================] - 9s 5ms/step - loss: 0.5828 - accuracy: 0.7955 - val_loss: 0.3937 - val_accuracy: 0.8593\n",
            "Epoch 2/50\n",
            "1875/1875 [==============================] - 9s 5ms/step - loss: 0.3685 - accuracy: 0.8664 - val_loss: 0.3706 - val_accuracy: 0.8669\n",
            "\n",
            "Alcanzado el 40% de pérdida, se cancela el entrenamiento!!\n"
          ],
          "name": "stdout"
        }
      ]
    }
  ]
}